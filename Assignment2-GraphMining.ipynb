{
 "cells": [
  {
   "cell_type": "markdown",
   "metadata": {},
   "source": [
    "### Question 1\n",
    "#### (P) Find the top 5 ranked airports in the state of New York. Present results in a similar form to what was done for the state of California|Table 3.6."
   ]
  },
  {
   "cell_type": "code",
   "execution_count": 1011,
   "metadata": {},
   "outputs": [],
   "source": [
    "datadir = '../Datasets/'"
   ]
  },
  {
   "cell_type": "code",
   "execution_count": 1012,
   "metadata": {},
   "outputs": [],
   "source": [
    "import igraph as ig\n",
    "import numpy as np\n",
    "import pandas as pd\n",
    "import matplotlib.pyplot as plt\n",
    "from matplotlib import cm"
   ]
  },
  {
   "cell_type": "code",
   "execution_count": 1013,
   "metadata": {},
   "outputs": [],
   "source": [
    "## define the colors and node sizes here\n",
    "cls_edges = 'gainsboro'\n",
    "cls = ['silver','dimgray','black']\n",
    "sz = [6,9,12]"
   ]
  },
  {
   "cell_type": "code",
   "execution_count": 1014,
   "metadata": {},
   "outputs": [
    {
     "data": {
      "text/html": [
       "<div>\n",
       "<style scoped>\n",
       "    .dataframe tbody tr th:only-of-type {\n",
       "        vertical-align: middle;\n",
       "    }\n",
       "\n",
       "    .dataframe tbody tr th {\n",
       "        vertical-align: top;\n",
       "    }\n",
       "\n",
       "    .dataframe thead th {\n",
       "        text-align: right;\n",
       "    }\n",
       "</style>\n",
       "<table border=\"1\" class=\"dataframe\">\n",
       "  <thead>\n",
       "    <tr style=\"text-align: right;\">\n",
       "      <th></th>\n",
       "      <th>orig_airport</th>\n",
       "      <th>dest_airport</th>\n",
       "      <th>total_passengers</th>\n",
       "    </tr>\n",
       "  </thead>\n",
       "  <tbody>\n",
       "    <tr>\n",
       "      <th>0</th>\n",
       "      <td>SFO</td>\n",
       "      <td>LAX</td>\n",
       "      <td>1442105</td>\n",
       "    </tr>\n",
       "    <tr>\n",
       "      <th>1</th>\n",
       "      <td>LAX</td>\n",
       "      <td>SFO</td>\n",
       "      <td>1438639</td>\n",
       "    </tr>\n",
       "    <tr>\n",
       "      <th>2</th>\n",
       "      <td>MCO</td>\n",
       "      <td>ATL</td>\n",
       "      <td>1436625</td>\n",
       "    </tr>\n",
       "    <tr>\n",
       "      <th>3</th>\n",
       "      <td>ATL</td>\n",
       "      <td>MCO</td>\n",
       "      <td>1424069</td>\n",
       "    </tr>\n",
       "    <tr>\n",
       "      <th>4</th>\n",
       "      <td>LAX</td>\n",
       "      <td>JFK</td>\n",
       "      <td>1277731</td>\n",
       "    </tr>\n",
       "  </tbody>\n",
       "</table>\n",
       "</div>"
      ],
      "text/plain": [
       "  orig_airport dest_airport  total_passengers\n",
       "0          SFO          LAX           1442105\n",
       "1          LAX          SFO           1438639\n",
       "2          MCO          ATL           1436625\n",
       "3          ATL          MCO           1424069\n",
       "4          LAX          JFK           1277731"
      ]
     },
     "execution_count": 1014,
     "metadata": {},
     "output_type": "execute_result"
    }
   ],
   "source": [
    "## read edges and build weighted directed graph\n",
    "D = pd.read_csv(datadir+'Airports/connections.csv')\n",
    "D.head()"
   ]
  },
  {
   "cell_type": "code",
   "execution_count": 1015,
   "metadata": {},
   "outputs": [
    {
     "data": {
      "text/html": [
       "<div>\n",
       "<style scoped>\n",
       "    .dataframe tbody tr th:only-of-type {\n",
       "        vertical-align: middle;\n",
       "    }\n",
       "\n",
       "    .dataframe tbody tr th {\n",
       "        vertical-align: top;\n",
       "    }\n",
       "\n",
       "    .dataframe thead th {\n",
       "        text-align: right;\n",
       "    }\n",
       "</style>\n",
       "<table border=\"1\" class=\"dataframe\">\n",
       "  <thead>\n",
       "    <tr style=\"text-align: right;\">\n",
       "      <th></th>\n",
       "      <th>airport</th>\n",
       "      <th>lon</th>\n",
       "      <th>lat</th>\n",
       "      <th>state</th>\n",
       "      <th>city</th>\n",
       "    </tr>\n",
       "  </thead>\n",
       "  <tbody>\n",
       "    <tr>\n",
       "      <th>0</th>\n",
       "      <td>ABE</td>\n",
       "      <td>-75.440804</td>\n",
       "      <td>40.652100</td>\n",
       "      <td>PA</td>\n",
       "      <td>Allentown</td>\n",
       "    </tr>\n",
       "    <tr>\n",
       "      <th>1</th>\n",
       "      <td>ABI</td>\n",
       "      <td>-99.681900</td>\n",
       "      <td>32.411301</td>\n",
       "      <td>TX</td>\n",
       "      <td>Abilene</td>\n",
       "    </tr>\n",
       "    <tr>\n",
       "      <th>2</th>\n",
       "      <td>ABQ</td>\n",
       "      <td>-106.609001</td>\n",
       "      <td>35.040199</td>\n",
       "      <td>NM</td>\n",
       "      <td>Albuquerque</td>\n",
       "    </tr>\n",
       "    <tr>\n",
       "      <th>3</th>\n",
       "      <td>ABR</td>\n",
       "      <td>-98.421799</td>\n",
       "      <td>45.449100</td>\n",
       "      <td>SD</td>\n",
       "      <td>Aberdeen</td>\n",
       "    </tr>\n",
       "    <tr>\n",
       "      <th>4</th>\n",
       "      <td>ABY</td>\n",
       "      <td>-84.194504</td>\n",
       "      <td>31.535500</td>\n",
       "      <td>GA</td>\n",
       "      <td>Albany</td>\n",
       "    </tr>\n",
       "  </tbody>\n",
       "</table>\n",
       "</div>"
      ],
      "text/plain": [
       "  airport         lon        lat state         city\n",
       "0     ABE  -75.440804  40.652100    PA    Allentown\n",
       "1     ABI  -99.681900  32.411301    TX      Abilene\n",
       "2     ABQ -106.609001  35.040199    NM  Albuquerque\n",
       "3     ABR  -98.421799  45.449100    SD     Aberdeen\n",
       "4     ABY  -84.194504  31.535500    GA       Albany"
      ]
     },
     "execution_count": 1015,
     "metadata": {},
     "output_type": "execute_result"
    }
   ],
   "source": [
    "g = ig.Graph.TupleList([tuple(x) for x in D.values], directed=True, edge_attrs=['weight'])\n",
    "df = D.head()\n",
    "## read vertex attributes and add to graph\n",
    "A = pd.read_csv(datadir+'Airports/airports_loc.csv')\n",
    "A.head()"
   ]
  },
  {
   "cell_type": "code",
   "execution_count": 1016,
   "metadata": {},
   "outputs": [
    {
     "name": "stdout",
     "output_type": "stream",
     "text": [
      "464 nodes and 12000 directed edges\n"
     ]
    }
   ],
   "source": [
    "lookup = {k:v for v,k in enumerate(A['airport'])}\n",
    "l = [lookup[x] for x in g.vs()['name']]\n",
    "g.vs()['layout'] = [(A['lon'][i],A['lat'][i]) for i in l]\n",
    "g.vs()['state'] = [A['state'][i] for i in l]\n",
    "g.vs()['city'] = [A['city'][i] for i in l]\n",
    "## add a few more attributes for visualization\n",
    "g.vs()['size'] = sz[1]\n",
    "g.vs()['color'] = cls[1]\n",
    "g.es()['color'] = cls_edges\n",
    "g.es()['arrow_size'] = 0.33\n",
    "A.head()\n",
    "print(g.vcount(),'nodes and',g.ecount(),'directed edges')"
   ]
  },
  {
   "cell_type": "code",
   "execution_count": 1020,
   "metadata": {},
   "outputs": [
    {
     "data": {
      "text/plain": [
       "17"
      ]
     },
     "execution_count": 1020,
     "metadata": {},
     "output_type": "execute_result"
    }
   ],
   "source": [
    "## Build smaller subgraph for New york \n",
    "hva = [v for v in g.vs() if v['state'] == 'NY']\n",
    "G = g.subgraph(hva)\n",
    "G.vcount()"
   ]
  },
  {
   "cell_type": "code",
   "execution_count": 1021,
   "metadata": {},
   "outputs": [
    {
     "data": {
      "image/svg+xml": [
       "<?xml version=\"1.0\" encoding=\"UTF-8\"?>\n",
       "<svg xmlns=\"http://www.w3.org/2000/svg\" xmlns:xlink=\"http://www.w3.org/1999/xlink\" width=\"300pt\" height=\"300pt\" viewBox=\"0 0 300 300\" version=\"1.1\">\n",
       "<g id=\"surface14\">\n",
       "<rect x=\"0\" y=\"0\" width=\"300\" height=\"300\" style=\"fill:rgb(100%,100%,100%);fill-opacity:1;stroke:none;\"/>\n",
       "<path style=\"fill:none;stroke-width:1;stroke-linecap:butt;stroke-linejoin:miter;stroke:rgb(86.27451%,86.27451%,86.27451%);stroke-opacity:1;stroke-miterlimit:10;\" d=\"M 277.566406 275.226562 C 277.566406 278.953125 274.542969 281.976562 270.816406 281.976562 C 267.089844 281.976562 264.066406 278.953125 264.066406 275.226562 C 264.066406 271.5 267.089844 268.476562 270.816406 268.476562 C 274.542969 268.476562 277.566406 271.5 277.566406 275.226562 \"/>\n",
       "<path style=\"fill:none;stroke-width:1;stroke-linecap:butt;stroke-linejoin:miter;stroke:rgb(86.27451%,86.27451%,86.27451%);stroke-opacity:1;stroke-miterlimit:10;\" d=\"M 266.042969 280 C 267.679688 279.667969 269.445312 277.636719 268.707031 277.007812 \"/>\n",
       "<path style=\" stroke:none;fill-rule:nonzero;fill:rgb(86.27451%,86.27451%,86.27451%);fill-opacity:1;\" d=\"M 265.121094 273.957031 L 269.699219 275.84375 L 267.714844 278.175781 L 265.121094 273.957031 \"/>\n",
       "<path style=\"fill:none;stroke-width:1;stroke-linecap:butt;stroke-linejoin:miter;stroke:rgb(86.27451%,86.27451%,86.27451%);stroke-opacity:1;stroke-miterlimit:10;\" d=\"M 266.042969 280 C 232.09375 177.21875 160.953125 126.160156 52.855469 131.550781 \"/>\n",
       "<path style=\" stroke:none;fill-rule:nonzero;fill:rgb(86.27451%,86.27451%,86.27451%);fill-opacity:1;\" d=\"M 48.152344 131.785156 L 52.78125 130.023438 L 52.933594 133.078125 L 48.152344 131.785156 \"/>\n",
       "<path style=\"fill:none;stroke-width:1;stroke-linecap:butt;stroke-linejoin:miter;stroke:rgb(86.27451%,86.27451%,86.27451%);stroke-opacity:1;stroke-miterlimit:10;\" d=\"M 266.042969 280 C 299.585938 238.382812 302.339844 194.710938 270.519531 151.792969 \"/>\n",
       "<path style=\" stroke:none;fill-rule:nonzero;fill:rgb(86.27451%,86.27451%,86.27451%);fill-opacity:1;\" d=\"M 267.714844 148.011719 L 271.746094 150.882812 L 269.289062 152.703125 L 267.714844 148.011719 \"/>\n",
       "<path style=\"fill:none;stroke-width:1;stroke-linecap:butt;stroke-linejoin:miter;stroke:rgb(86.27451%,86.27451%,86.27451%);stroke-opacity:1;stroke-miterlimit:10;\" d=\"M 266.042969 280 C 250.457031 185.753906 195.410156 131.347656 100.40625 121.492188 \"/>\n",
       "<path style=\" stroke:none;fill-rule:nonzero;fill:rgb(86.27451%,86.27451%,86.27451%);fill-opacity:1;\" d=\"M 95.722656 121.007812 L 100.5625 119.96875 L 100.25 123.011719 L 95.722656 121.007812 \"/>\n",
       "<path style=\"fill:none;stroke-width:1;stroke-linecap:butt;stroke-linejoin:miter;stroke:rgb(86.27451%,86.27451%,86.27451%);stroke-opacity:1;stroke-miterlimit:10;\" d=\"M 266.042969 280 C 273.035156 204.121094 241.632812 150.726562 170.199219 124.246094 \"/>\n",
       "<path style=\" stroke:none;fill-rule:nonzero;fill:rgb(86.27451%,86.27451%,86.27451%);fill-opacity:1;\" d=\"M 165.785156 122.609375 L 170.730469 122.8125 L 169.667969 125.679688 L 165.785156 122.609375 \"/>\n",
       "<path style=\"fill:none;stroke-width:1;stroke-linecap:butt;stroke-linejoin:miter;stroke:rgb(86.27451%,86.27451%,86.27451%);stroke-opacity:1;stroke-miterlimit:10;\" d=\"M 266.042969 280 C 267.304688 278.460938 267.65625 275.519531 266.253906 275.230469 \"/>\n",
       "<path style=\" stroke:none;fill-rule:nonzero;fill:rgb(86.27451%,86.27451%,86.27451%);fill-opacity:1;\" d=\"M 261.644531 274.273438 L 266.5625 273.730469 L 265.941406 276.726562 L 261.644531 274.273438 \"/>\n",
       "<path style=\"fill:none;stroke-width:1;stroke-linecap:butt;stroke-linejoin:miter;stroke:rgb(86.27451%,86.27451%,86.27451%);stroke-opacity:1;stroke-miterlimit:10;\" d=\"M 266.042969 280 C 266.792969 278.105469 266.25 275.152344 264.757812 275.28125 \"/>\n",
       "<path style=\" stroke:none;fill-rule:nonzero;fill:rgb(86.27451%,86.27451%,86.27451%);fill-opacity:1;\" d=\"M 260.066406 275.679688 L 264.628906 273.757812 L 264.886719 276.804688 L 260.066406 275.679688 \"/>\n",
       "<path style=\"fill:none;stroke-width:1;stroke-linecap:butt;stroke-linejoin:miter;stroke:rgb(86.27451%,86.27451%,86.27451%);stroke-opacity:1;stroke-miterlimit:10;\" d=\"M 261.835938 271.164062 C 260.199219 271.492188 258.433594 273.523438 259.171875 274.152344 \"/>\n",
       "<path style=\" stroke:none;fill-rule:nonzero;fill:rgb(86.27451%,86.27451%,86.27451%);fill-opacity:1;\" d=\"M 262.757812 277.203125 L 258.179688 275.316406 L 260.164062 272.988281 L 262.757812 277.203125 \"/>\n",
       "<path style=\"fill:none;stroke-width:1;stroke-linecap:butt;stroke-linejoin:miter;stroke:rgb(86.27451%,86.27451%,86.27451%);stroke-opacity:1;stroke-miterlimit:10;\" d=\"M 273.359375 266.390625 C 273.359375 270.117188 270.335938 273.140625 266.609375 273.140625 C 262.882812 273.140625 259.859375 270.117188 259.859375 266.390625 C 259.859375 262.660156 262.882812 259.640625 266.609375 259.640625 C 270.335938 259.640625 273.359375 262.660156 273.359375 266.390625 \"/>\n",
       "<path style=\"fill:none;stroke-width:1;stroke-linecap:butt;stroke-linejoin:miter;stroke:rgb(86.27451%,86.27451%,86.27451%);stroke-opacity:1;stroke-miterlimit:10;\" d=\"M 261.835938 271.164062 C 227.117188 172.316406 157.347656 124.148438 52.84375 131.375 \"/>\n",
       "<path style=\" stroke:none;fill-rule:nonzero;fill:rgb(86.27451%,86.27451%,86.27451%);fill-opacity:1;\" d=\"M 48.148438 131.699219 L 52.738281 129.847656 L 52.949219 132.898438 L 48.148438 131.699219 \"/>\n",
       "<path style=\"fill:none;stroke-width:1;stroke-linecap:butt;stroke-linejoin:miter;stroke:rgb(86.27451%,86.27451%,86.27451%);stroke-opacity:1;stroke-miterlimit:10;\" d=\"M 261.835938 271.164062 C 294.445312 233.539062 298.542969 192.917969 270.265625 151.972656 \"/>\n",
       "<path style=\" stroke:none;fill-rule:nonzero;fill:rgb(86.27451%,86.27451%,86.27451%);fill-opacity:1;\" d=\"M 267.589844 148.097656 L 271.523438 151.101562 L 269.007812 152.839844 L 267.589844 148.097656 \"/>\n",
       "<path style=\"fill:none;stroke-width:1;stroke-linecap:butt;stroke-linejoin:miter;stroke:rgb(86.27451%,86.27451%,86.27451%);stroke-opacity:1;stroke-miterlimit:10;\" d=\"M 261.835938 271.164062 C 245.484375 180.867188 191.816406 129.359375 100.417969 121.34375 \"/>\n",
       "<path style=\" stroke:none;fill-rule:nonzero;fill:rgb(86.27451%,86.27451%,86.27451%);fill-opacity:1;\" d=\"M 95.730469 120.933594 L 100.550781 119.820312 L 100.285156 122.867188 L 95.730469 120.933594 \"/>\n",
       "<path style=\"fill:none;stroke-width:1;stroke-linecap:butt;stroke-linejoin:miter;stroke:rgb(86.27451%,86.27451%,86.27451%);stroke-opacity:1;stroke-miterlimit:10;\" d=\"M 261.835938 271.164062 C 268.042969 199.265625 238.039062 148.792969 170.21875 124.1875 \"/>\n",
       "<path style=\" stroke:none;fill-rule:nonzero;fill:rgb(86.27451%,86.27451%,86.27451%);fill-opacity:1;\" d=\"M 165.792969 122.578125 L 170.742188 122.746094 L 169.699219 125.625 L 165.792969 122.578125 \"/>\n",
       "<path style=\"fill:none;stroke-width:1;stroke-linecap:butt;stroke-linejoin:miter;stroke:rgb(86.27451%,86.27451%,86.27451%);stroke-opacity:1;stroke-miterlimit:10;\" d=\"M 261.835938 271.164062 C 253.453125 208.070312 218 170.152344 154.886719 162.09375 \"/>\n",
       "<path style=\" stroke:none;fill-rule:nonzero;fill:rgb(86.27451%,86.27451%,86.27451%);fill-opacity:1;\" d=\"M 150.214844 161.5 L 155.078125 160.578125 L 154.691406 163.613281 L 150.214844 161.5 \"/>\n",
       "<path style=\"fill:none;stroke-width:1;stroke-linecap:butt;stroke-linejoin:miter;stroke:rgb(86.27451%,86.27451%,86.27451%);stroke-opacity:1;stroke-miterlimit:10;\" d=\"M 43.613281 132.011719 C 77.5625 234.792969 148.703125 285.851562 256.800781 280.460938 \"/>\n",
       "<path style=\" stroke:none;fill-rule:nonzero;fill:rgb(86.27451%,86.27451%,86.27451%);fill-opacity:1;\" d=\"M 261.5 280.226562 L 256.875 281.988281 L 256.722656 278.933594 L 261.5 280.226562 \"/>\n",
       "<path style=\"fill:none;stroke-width:1;stroke-linecap:butt;stroke-linejoin:miter;stroke:rgb(86.27451%,86.27451%,86.27451%);stroke-opacity:1;stroke-miterlimit:10;\" d=\"M 43.613281 132.011719 C 78.328125 230.855469 148.101562 279.027344 252.601562 271.800781 \"/>\n",
       "<path style=\" stroke:none;fill-rule:nonzero;fill:rgb(86.27451%,86.27451%,86.27451%);fill-opacity:1;\" d=\"M 257.300781 271.476562 L 252.707031 273.328125 L 252.496094 270.273438 L 257.300781 271.476562 \"/>\n",
       "<path style=\"fill:none;stroke-width:1;stroke-linecap:butt;stroke-linejoin:miter;stroke:rgb(86.27451%,86.27451%,86.27451%);stroke-opacity:1;stroke-miterlimit:10;\" d=\"M 55.132812 127.238281 C 55.132812 130.96875 52.113281 133.988281 48.382812 133.988281 C 44.65625 133.988281 41.632812 130.96875 41.632812 127.238281 C 41.632812 123.511719 44.65625 120.488281 48.382812 120.488281 C 52.113281 120.488281 55.132812 123.511719 55.132812 127.238281 \"/>\n",
       "<path style=\"fill:none;stroke-width:1;stroke-linecap:butt;stroke-linejoin:miter;stroke:rgb(86.27451%,86.27451%,86.27451%);stroke-opacity:1;stroke-miterlimit:10;\" d=\"M 43.613281 132.011719 C 110.476562 191.238281 182.5625 198.371094 257.28125 149.441406 \"/>\n",
       "<path style=\" stroke:none;fill-rule:nonzero;fill:rgb(86.27451%,86.27451%,86.27451%);fill-opacity:1;\" d=\"M 261.21875 146.863281 L 258.117188 150.722656 L 256.441406 148.164062 L 261.21875 146.863281 \"/>\n",
       "<path style=\"fill:none;stroke-width:1;stroke-linecap:butt;stroke-linejoin:miter;stroke:rgb(86.27451%,86.27451%,86.27451%);stroke-opacity:1;stroke-miterlimit:10;\" d=\"M 43.613281 132.011719 C 58.605469 140.84375 73.585938 140.320312 85.113281 127.375 \"/>\n",
       "<path style=\" stroke:none;fill-rule:nonzero;fill:rgb(86.27451%,86.27451%,86.27451%);fill-opacity:1;\" d=\"M 88.242188 123.859375 L 86.253906 128.394531 L 83.96875 126.359375 L 88.242188 123.859375 \"/>\n",
       "<path style=\"fill:none;stroke-width:1;stroke-linecap:butt;stroke-linejoin:miter;stroke:rgb(86.27451%,86.27451%,86.27451%);stroke-opacity:1;stroke-miterlimit:10;\" d=\"M 43.613281 132.011719 C 81.828125 158.128906 119.859375 157.679688 154.601562 127.125 \"/>\n",
       "<path style=\" stroke:none;fill-rule:nonzero;fill:rgb(86.27451%,86.27451%,86.27451%);fill-opacity:1;\" d=\"M 158.136719 124.015625 L 155.609375 128.273438 L 153.589844 125.976562 L 158.136719 124.015625 \"/>\n",
       "<path style=\"fill:none;stroke-width:1;stroke-linecap:butt;stroke-linejoin:miter;stroke:rgb(86.27451%,86.27451%,86.27451%);stroke-opacity:1;stroke-miterlimit:10;\" d=\"M 43.613281 132.011719 L 158.605469 175.808594 \"/>\n",
       "<path style=\" stroke:none;fill-rule:nonzero;fill:rgb(86.27451%,86.27451%,86.27451%);fill-opacity:1;\" d=\"M 163.003906 177.480469 L 158.0625 177.234375 L 159.148438 174.378906 L 163.003906 177.480469 \"/>\n",
       "<path style=\"fill:none;stroke-width:1;stroke-linecap:butt;stroke-linejoin:miter;stroke:rgb(86.27451%,86.27451%,86.27451%);stroke-opacity:1;stroke-miterlimit:10;\" d=\"M 265.019531 144.375 C 231.476562 185.992188 228.722656 229.664062 260.542969 272.582031 \"/>\n",
       "<path style=\" stroke:none;fill-rule:nonzero;fill:rgb(86.27451%,86.27451%,86.27451%);fill-opacity:1;\" d=\"M 263.347656 276.363281 L 259.316406 273.492188 L 261.773438 271.671875 L 263.347656 276.363281 \"/>\n",
       "<path style=\"fill:none;stroke-width:1;stroke-linecap:butt;stroke-linejoin:miter;stroke:rgb(86.27451%,86.27451%,86.27451%);stroke-opacity:1;stroke-miterlimit:10;\" d=\"M 265.019531 144.375 C 232.410156 182 228.3125 222.621094 256.589844 263.566406 \"/>\n",
       "<path style=\" stroke:none;fill-rule:nonzero;fill:rgb(86.27451%,86.27451%,86.27451%);fill-opacity:1;\" d=\"M 259.265625 267.441406 L 255.332031 264.4375 L 257.847656 262.695312 L 259.265625 267.441406 \"/>\n",
       "<path style=\"fill:none;stroke-width:1;stroke-linecap:butt;stroke-linejoin:miter;stroke:rgb(86.27451%,86.27451%,86.27451%);stroke-opacity:1;stroke-miterlimit:10;\" d=\"M 265.019531 144.375 C 198.15625 85.148438 126.066406 78.019531 51.351562 126.945312 \"/>\n",
       "<path style=\" stroke:none;fill-rule:nonzero;fill:rgb(86.27451%,86.27451%,86.27451%);fill-opacity:1;\" d=\"M 47.414062 129.523438 L 50.511719 125.664062 L 52.1875 128.222656 L 47.414062 129.523438 \"/>\n",
       "<path style=\"fill:none;stroke-width:1;stroke-linecap:butt;stroke-linejoin:miter;stroke:rgb(86.27451%,86.27451%,86.27451%);stroke-opacity:1;stroke-miterlimit:10;\" d=\"M 265.019531 144.375 C 240.09375 111.628906 207.804688 101.199219 170.007812 117.398438 \"/>\n",
       "<path style=\" stroke:none;fill-rule:nonzero;fill:rgb(86.27451%,86.27451%,86.27451%);fill-opacity:1;\" d=\"M 165.679688 119.253906 L 169.402344 115.992188 L 170.609375 118.804688 L 165.679688 119.253906 \"/>\n",
       "<path style=\"fill:none;stroke-width:1;stroke-linecap:butt;stroke-linejoin:miter;stroke:rgb(86.27451%,86.27451%,86.27451%);stroke-opacity:1;stroke-miterlimit:10;\" d=\"M 265.019531 144.375 L 135.148438 179.800781 \"/>\n",
       "<path style=\" stroke:none;fill-rule:nonzero;fill:rgb(86.27451%,86.27451%,86.27451%);fill-opacity:1;\" d=\"M 130.605469 181.039062 L 134.746094 178.324219 L 135.550781 181.273438 L 130.605469 181.039062 \"/>\n",
       "<path style=\"fill:none;stroke-width:1;stroke-linecap:butt;stroke-linejoin:miter;stroke:rgb(86.27451%,86.27451%,86.27451%);stroke-opacity:1;stroke-miterlimit:10;\" d=\"M 265.019531 144.375 C 254.753906 95.238281 224.671875 67.148438 174.550781 64.8125 \"/>\n",
       "<path style=\" stroke:none;fill-rule:nonzero;fill:rgb(86.27451%,86.27451%,86.27451%);fill-opacity:1;\" d=\"M 169.847656 64.59375 L 174.621094 63.285156 L 174.480469 66.339844 L 169.847656 64.59375 \"/>\n",
       "<path style=\"fill:none;stroke-width:1;stroke-linecap:butt;stroke-linejoin:miter;stroke:rgb(86.27451%,86.27451%,86.27451%);stroke-opacity:1;stroke-miterlimit:10;\" d=\"M 265.019531 144.375 C 273.148438 87.5625 251.691406 45.851562 198.816406 23.585938 \"/>\n",
       "<path style=\" stroke:none;fill-rule:nonzero;fill:rgb(86.27451%,86.27451%,86.27451%);fill-opacity:1;\" d=\"M 194.480469 21.757812 L 199.410156 22.175781 L 198.226562 24.996094 L 194.480469 21.757812 \"/>\n",
       "<path style=\"fill:none;stroke-width:1;stroke-linecap:butt;stroke-linejoin:miter;stroke:rgb(86.27451%,86.27451%,86.27451%);stroke-opacity:1;stroke-miterlimit:10;\" d=\"M 91.203125 120.535156 C 106.789062 214.78125 161.835938 269.1875 256.839844 279.046875 \"/>\n",
       "<path style=\" stroke:none;fill-rule:nonzero;fill:rgb(86.27451%,86.27451%,86.27451%);fill-opacity:1;\" d=\"M 261.523438 279.53125 L 256.683594 280.566406 L 256.996094 277.523438 L 261.523438 279.53125 \"/>\n",
       "<path style=\"fill:none;stroke-width:1;stroke-linecap:butt;stroke-linejoin:miter;stroke:rgb(86.27451%,86.27451%,86.27451%);stroke-opacity:1;stroke-miterlimit:10;\" d=\"M 91.203125 120.535156 C 107.554688 210.832031 161.222656 262.339844 252.621094 270.355469 \"/>\n",
       "<path style=\" stroke:none;fill-rule:nonzero;fill:rgb(86.27451%,86.27451%,86.27451%);fill-opacity:1;\" d=\"M 257.308594 270.765625 L 252.484375 271.878906 L 252.753906 268.832031 L 257.308594 270.765625 \"/>\n",
       "<path style=\"fill:none;stroke-width:1;stroke-linecap:butt;stroke-linejoin:miter;stroke:rgb(86.27451%,86.27451%,86.27451%);stroke-opacity:1;stroke-miterlimit:10;\" d=\"M 91.203125 120.535156 C 76.210938 111.707031 61.226562 112.230469 49.703125 125.171875 \"/>\n",
       "<path style=\" stroke:none;fill-rule:nonzero;fill:rgb(86.27451%,86.27451%,86.27451%);fill-opacity:1;\" d=\"M 46.570312 128.6875 L 48.558594 124.15625 L 50.84375 126.191406 L 46.570312 128.6875 \"/>\n",
       "<path style=\"fill:none;stroke-width:1;stroke-linecap:butt;stroke-linejoin:miter;stroke:rgb(86.27451%,86.27451%,86.27451%);stroke-opacity:1;stroke-miterlimit:10;\" d=\"M 91.203125 120.535156 L 255.898438 143.125 \"/>\n",
       "<path style=\" stroke:none;fill-rule:nonzero;fill:rgb(86.27451%,86.27451%,86.27451%);fill-opacity:1;\" d=\"M 260.5625 143.761719 L 255.691406 144.640625 L 256.105469 141.609375 L 260.5625 143.761719 \"/>\n",
       "<path style=\"fill:none;stroke-width:1;stroke-linecap:butt;stroke-linejoin:miter;stroke:rgb(86.27451%,86.27451%,86.27451%);stroke-opacity:1;stroke-miterlimit:10;\" d=\"M 91.203125 120.535156 C 110.691406 138.160156 132.515625 141.355469 154 126.308594 \"/>\n",
       "<path style=\" stroke:none;fill-rule:nonzero;fill:rgb(86.27451%,86.27451%,86.27451%);fill-opacity:1;\" d=\"M 157.855469 123.605469 L 154.875 127.558594 L 153.121094 125.054688 L 157.855469 123.605469 \"/>\n",
       "<path style=\"fill:none;stroke-width:1;stroke-linecap:butt;stroke-linejoin:miter;stroke:rgb(86.27451%,86.27451%,86.27451%);stroke-opacity:1;stroke-miterlimit:10;\" d=\"M 161.53125 121.03125 C 154.539062 196.910156 185.9375 250.304688 257.375 276.785156 \"/>\n",
       "<path style=\" stroke:none;fill-rule:nonzero;fill:rgb(86.27451%,86.27451%,86.27451%);fill-opacity:1;\" d=\"M 261.789062 278.421875 L 256.839844 278.21875 L 257.90625 275.351562 L 261.789062 278.421875 \"/>\n",
       "<path style=\"fill:none;stroke-width:1;stroke-linecap:butt;stroke-linejoin:miter;stroke:rgb(86.27451%,86.27451%,86.27451%);stroke-opacity:1;stroke-miterlimit:10;\" d=\"M 161.53125 121.03125 C 155.324219 192.929688 185.324219 243.402344 253.144531 268.007812 \"/>\n",
       "<path style=\" stroke:none;fill-rule:nonzero;fill:rgb(86.27451%,86.27451%,86.27451%);fill-opacity:1;\" d=\"M 257.570312 269.613281 L 252.625 269.445312 L 253.667969 266.570312 L 257.570312 269.613281 \"/>\n",
       "<path style=\"fill:none;stroke-width:1;stroke-linecap:butt;stroke-linejoin:miter;stroke:rgb(86.27451%,86.27451%,86.27451%);stroke-opacity:1;stroke-miterlimit:10;\" d=\"M 161.53125 121.03125 C 123.3125 94.914062 85.28125 95.363281 50.539062 125.917969 \"/>\n",
       "<path style=\" stroke:none;fill-rule:nonzero;fill:rgb(86.27451%,86.27451%,86.27451%);fill-opacity:1;\" d=\"M 47.003906 129.027344 L 49.53125 124.769531 L 51.550781 127.066406 L 47.003906 129.027344 \"/>\n",
       "<path style=\"fill:none;stroke-width:1;stroke-linecap:butt;stroke-linejoin:miter;stroke:rgb(86.27451%,86.27451%,86.27451%);stroke-opacity:1;stroke-miterlimit:10;\" d=\"M 161.53125 121.03125 C 186.457031 153.777344 218.746094 164.207031 256.542969 148.007812 \"/>\n",
       "<path style=\" stroke:none;fill-rule:nonzero;fill:rgb(86.27451%,86.27451%,86.27451%);fill-opacity:1;\" d=\"M 260.871094 146.152344 L 257.144531 149.414062 L 255.941406 146.601562 L 260.871094 146.152344 \"/>\n",
       "<path style=\"fill:none;stroke-width:1;stroke-linecap:butt;stroke-linejoin:miter;stroke:rgb(86.27451%,86.27451%,86.27451%);stroke-opacity:1;stroke-miterlimit:10;\" d=\"M 161.53125 121.03125 C 142.039062 103.410156 120.214844 100.214844 98.734375 115.261719 \"/>\n",
       "<path style=\" stroke:none;fill-rule:nonzero;fill:rgb(86.27451%,86.27451%,86.27451%);fill-opacity:1;\" d=\"M 94.878906 117.964844 L 97.855469 114.007812 L 99.609375 116.515625 L 94.878906 117.964844 \"/>\n",
       "<path style=\"fill:none;stroke-width:1;stroke-linecap:butt;stroke-linejoin:miter;stroke:rgb(86.27451%,86.27451%,86.27451%);stroke-opacity:1;stroke-miterlimit:10;\" d=\"M 161.53125 121.03125 L 130.863281 174.246094 \"/>\n",
       "<path style=\" stroke:none;fill-rule:nonzero;fill:rgb(86.27451%,86.27451%,86.27451%);fill-opacity:1;\" d=\"M 128.511719 178.324219 L 129.539062 173.480469 L 132.1875 175.007812 L 128.511719 178.324219 \"/>\n",
       "<path style=\"fill:none;stroke-width:1;stroke-linecap:butt;stroke-linejoin:miter;stroke:rgb(86.27451%,86.27451%,86.27451%);stroke-opacity:1;stroke-miterlimit:10;\" d=\"M 161.53125 121.03125 C 147.835938 126.898438 140.398438 137.566406 143.6875 152.011719 \"/>\n",
       "<path style=\" stroke:none;fill-rule:nonzero;fill:rgb(86.27451%,86.27451%,86.27451%);fill-opacity:1;\" d=\"M 144.734375 156.601562 L 142.195312 152.351562 L 145.179688 151.671875 L 144.734375 156.601562 \"/>\n",
       "<path style=\"fill:none;stroke-width:1;stroke-linecap:butt;stroke-linejoin:miter;stroke:rgb(86.27451%,86.27451%,86.27451%);stroke-opacity:1;stroke-miterlimit:10;\" d=\"M 126.265625 182.222656 L 254.136719 266.113281 \"/>\n",
       "<path style=\" stroke:none;fill-rule:nonzero;fill:rgb(86.27451%,86.27451%,86.27451%);fill-opacity:1;\" d=\"M 258.074219 268.695312 L 253.296875 267.390625 L 254.976562 264.832031 L 258.074219 268.695312 \"/>\n",
       "<path style=\"fill:none;stroke-width:1;stroke-linecap:butt;stroke-linejoin:miter;stroke:rgb(86.27451%,86.27451%,86.27451%);stroke-opacity:1;stroke-miterlimit:10;\" d=\"M 126.265625 182.222656 L 158.03125 179.789062 \"/>\n",
       "<path style=\" stroke:none;fill-rule:nonzero;fill:rgb(86.27451%,86.27451%,86.27451%);fill-opacity:1;\" d=\"M 162.722656 179.429688 L 158.148438 181.3125 L 157.914062 178.261719 L 162.722656 179.429688 \"/>\n",
       "<path style=\"fill:none;stroke-width:1;stroke-linecap:butt;stroke-linejoin:miter;stroke:rgb(86.27451%,86.27451%,86.27451%);stroke-opacity:1;stroke-miterlimit:10;\" d=\"M 126.265625 182.222656 L 139.507812 167.722656 \"/>\n",
       "<path style=\" stroke:none;fill-rule:nonzero;fill:rgb(86.27451%,86.27451%,86.27451%);fill-opacity:1;\" d=\"M 142.683594 164.246094 L 140.636719 168.753906 L 138.378906 166.691406 L 142.683594 164.246094 \"/>\n",
       "<path style=\"fill:none;stroke-width:1;stroke-linecap:butt;stroke-linejoin:miter;stroke:rgb(86.27451%,86.27451%,86.27451%);stroke-opacity:1;stroke-miterlimit:10;\" d=\"M 167.210938 179.082031 L 255.238281 264.742188 \"/>\n",
       "<path style=\" stroke:none;fill-rule:nonzero;fill:rgb(86.27451%,86.27451%,86.27451%);fill-opacity:1;\" d=\"M 258.609375 268.023438 L 254.171875 265.835938 L 256.304688 263.644531 L 258.609375 268.023438 \"/>\n",
       "<path style=\"fill:none;stroke-width:1;stroke-linecap:butt;stroke-linejoin:miter;stroke:rgb(86.27451%,86.27451%,86.27451%);stroke-opacity:1;stroke-miterlimit:10;\" d=\"M 167.210938 179.082031 L 162.425781 130.195312 \"/>\n",
       "<path style=\" stroke:none;fill-rule:nonzero;fill:rgb(86.27451%,86.27451%,86.27451%);fill-opacity:1;\" d=\"M 161.96875 125.511719 L 163.949219 130.046875 L 160.902344 130.34375 L 161.96875 125.511719 \"/>\n",
       "<path style=\"fill:none;stroke-width:1;stroke-linecap:butt;stroke-linejoin:miter;stroke:rgb(86.27451%,86.27451%,86.27451%);stroke-opacity:1;stroke-miterlimit:10;\" d=\"M 145.71875 160.925781 C 154.101562 224.019531 189.554688 261.933594 252.667969 269.992188 \"/>\n",
       "<path style=\" stroke:none;fill-rule:nonzero;fill:rgb(86.27451%,86.27451%,86.27451%);fill-opacity:1;\" d=\"M 257.339844 270.589844 L 252.476562 271.507812 L 252.863281 268.476562 L 257.339844 270.589844 \"/>\n",
       "<path style=\"fill:none;stroke-width:1;stroke-linecap:butt;stroke-linejoin:miter;stroke:rgb(86.27451%,86.27451%,86.27451%);stroke-opacity:1;stroke-miterlimit:10;\" d=\"M 145.71875 160.925781 L 52.472656 134.519531 \"/>\n",
       "<path style=\" stroke:none;fill-rule:nonzero;fill:rgb(86.27451%,86.27451%,86.27451%);fill-opacity:1;\" d=\"M 47.941406 133.238281 L 52.886719 133.050781 L 52.054688 135.992188 L 47.941406 133.238281 \"/>\n",
       "<path style=\"fill:none;stroke-width:1;stroke-linecap:butt;stroke-linejoin:miter;stroke:rgb(86.27451%,86.27451%,86.27451%);stroke-opacity:1;stroke-miterlimit:10;\" d=\"M 145.71875 160.925781 C 159.410156 155.058594 166.851562 144.390625 163.558594 129.945312 \"/>\n",
       "<path style=\" stroke:none;fill-rule:nonzero;fill:rgb(86.27451%,86.27451%,86.27451%);fill-opacity:1;\" d=\"M 162.515625 125.355469 L 165.050781 129.605469 L 162.070312 130.285156 L 162.515625 125.355469 \"/>\n",
       "<path style=\"fill:none;stroke-width:1;stroke-linecap:butt;stroke-linejoin:miter;stroke:rgb(86.27451%,86.27451%,86.27451%);stroke-opacity:1;stroke-miterlimit:10;\" d=\"M 257.367188 273.386719 C 256.105469 274.925781 255.753906 277.867188 257.15625 278.160156 \"/>\n",
       "<path style=\" stroke:none;fill-rule:nonzero;fill:rgb(86.27451%,86.27451%,86.27451%);fill-opacity:1;\" d=\"M 261.769531 279.113281 L 256.847656 279.65625 L 257.46875 276.660156 L 261.769531 279.113281 \"/>\n",
       "<path style=\"fill:none;stroke-width:1;stroke-linecap:butt;stroke-linejoin:miter;stroke:rgb(86.27451%,86.27451%,86.27451%);stroke-opacity:1;stroke-miterlimit:10;\" d=\"M 255.710938 276.050781 C 254.957031 277.945312 255.503906 280.898438 256.996094 280.769531 \"/>\n",
       "<path style=\" stroke:none;fill-rule:nonzero;fill:rgb(86.27451%,86.27451%,86.27451%);fill-opacity:1;\" d=\"M 261.6875 280.371094 L 257.125 282.292969 L 256.867188 279.246094 L 261.6875 280.371094 \"/>\n",
       "<path style=\"fill:none;stroke-width:1;stroke-linecap:butt;stroke-linejoin:miter;stroke:rgb(86.27451%,86.27451%,86.27451%);stroke-opacity:1;stroke-miterlimit:10;\" d=\"M 165.328125 64.382812 C 175.59375 113.519531 205.679688 141.609375 255.796875 143.945312 \"/>\n",
       "<path style=\" stroke:none;fill-rule:nonzero;fill:rgb(86.27451%,86.27451%,86.27451%);fill-opacity:1;\" d=\"M 260.5 144.164062 L 255.726562 145.472656 L 255.871094 142.417969 L 260.5 144.164062 \"/>\n",
       "<path style=\"fill:none;stroke-width:1;stroke-linecap:butt;stroke-linejoin:miter;stroke:rgb(86.27451%,86.27451%,86.27451%);stroke-opacity:1;stroke-miterlimit:10;\" d=\"M 190.304688 20 C 182.175781 76.8125 203.632812 118.527344 256.507812 140.789062 \"/>\n",
       "<path style=\" stroke:none;fill-rule:nonzero;fill:rgb(86.27451%,86.27451%,86.27451%);fill-opacity:1;\" d=\"M 260.84375 142.617188 L 255.914062 142.199219 L 257.101562 139.378906 L 260.84375 142.617188 \"/>\n",
       "<path style=\"fill-rule:nonzero;fill:rgb(41.176471%,41.176471%,41.176471%);fill-opacity:1;stroke-width:1;stroke-linecap:butt;stroke-linejoin:miter;stroke:rgb(0%,0%,0%);stroke-opacity:1;stroke-miterlimit:10;\" d=\"M 270.542969 280 C 270.542969 286 261.542969 286 261.542969 280 C 261.542969 274 270.542969 274 270.542969 280 \"/>\n",
       "<path style=\"fill-rule:nonzero;fill:rgb(41.176471%,41.176471%,41.176471%);fill-opacity:1;stroke-width:1;stroke-linecap:butt;stroke-linejoin:miter;stroke:rgb(0%,0%,0%);stroke-opacity:1;stroke-miterlimit:10;\" d=\"M 266.335938 271.164062 C 266.335938 277.164062 257.335938 277.164062 257.335938 271.164062 C 257.335938 265.164062 266.335938 265.164062 266.335938 271.164062 \"/>\n",
       "<path style=\"fill-rule:nonzero;fill:rgb(41.176471%,41.176471%,41.176471%);fill-opacity:1;stroke-width:1;stroke-linecap:butt;stroke-linejoin:miter;stroke:rgb(0%,0%,0%);stroke-opacity:1;stroke-miterlimit:10;\" d=\"M 48.113281 132.011719 C 48.113281 138.011719 39.113281 138.011719 39.113281 132.011719 C 39.113281 126.011719 48.113281 126.011719 48.113281 132.011719 \"/>\n",
       "<path style=\"fill-rule:nonzero;fill:rgb(41.176471%,41.176471%,41.176471%);fill-opacity:1;stroke-width:1;stroke-linecap:butt;stroke-linejoin:miter;stroke:rgb(0%,0%,0%);stroke-opacity:1;stroke-miterlimit:10;\" d=\"M 269.519531 144.375 C 269.519531 150.375 260.519531 150.375 260.519531 144.375 C 260.519531 138.375 269.519531 138.375 269.519531 144.375 \"/>\n",
       "<path style=\"fill-rule:nonzero;fill:rgb(41.176471%,41.176471%,41.176471%);fill-opacity:1;stroke-width:1;stroke-linecap:butt;stroke-linejoin:miter;stroke:rgb(0%,0%,0%);stroke-opacity:1;stroke-miterlimit:10;\" d=\"M 95.703125 120.535156 C 95.703125 126.535156 86.703125 126.535156 86.703125 120.535156 C 86.703125 114.535156 95.703125 114.535156 95.703125 120.535156 \"/>\n",
       "<path style=\"fill-rule:nonzero;fill:rgb(41.176471%,41.176471%,41.176471%);fill-opacity:1;stroke-width:1;stroke-linecap:butt;stroke-linejoin:miter;stroke:rgb(0%,0%,0%);stroke-opacity:1;stroke-miterlimit:10;\" d=\"M 166.03125 121.03125 C 166.03125 127.03125 157.03125 127.03125 157.03125 121.03125 C 157.03125 115.03125 166.03125 115.03125 166.03125 121.03125 \"/>\n",
       "<path style=\"fill-rule:nonzero;fill:rgb(41.176471%,41.176471%,41.176471%);fill-opacity:1;stroke-width:1;stroke-linecap:butt;stroke-linejoin:miter;stroke:rgb(0%,0%,0%);stroke-opacity:1;stroke-miterlimit:10;\" d=\"M 130.765625 182.222656 C 130.765625 188.222656 121.765625 188.222656 121.765625 182.222656 C 121.765625 176.222656 130.765625 176.222656 130.765625 182.222656 \"/>\n",
       "<path style=\"fill-rule:nonzero;fill:rgb(41.176471%,41.176471%,41.176471%);fill-opacity:1;stroke-width:1;stroke-linecap:butt;stroke-linejoin:miter;stroke:rgb(0%,0%,0%);stroke-opacity:1;stroke-miterlimit:10;\" d=\"M 171.710938 179.082031 C 171.710938 185.082031 162.710938 185.082031 162.710938 179.082031 C 162.710938 173.082031 171.710938 173.082031 171.710938 179.082031 \"/>\n",
       "<path style=\"fill-rule:nonzero;fill:rgb(41.176471%,41.176471%,41.176471%);fill-opacity:1;stroke-width:1;stroke-linecap:butt;stroke-linejoin:miter;stroke:rgb(0%,0%,0%);stroke-opacity:1;stroke-miterlimit:10;\" d=\"M 150.21875 160.925781 C 150.21875 166.925781 141.21875 166.925781 141.21875 160.925781 C 141.21875 154.925781 150.21875 154.925781 150.21875 160.925781 \"/>\n",
       "<path style=\"fill-rule:nonzero;fill:rgb(41.176471%,41.176471%,41.176471%);fill-opacity:1;stroke-width:1;stroke-linecap:butt;stroke-linejoin:miter;stroke:rgb(0%,0%,0%);stroke-opacity:1;stroke-miterlimit:10;\" d=\"M 284.5 21.992188 C 284.5 27.992188 275.5 27.992188 275.5 21.992188 C 275.5 15.992188 284.5 15.992188 284.5 21.992188 \"/>\n",
       "<path style=\"fill-rule:nonzero;fill:rgb(41.176471%,41.176471%,41.176471%);fill-opacity:1;stroke-width:1;stroke-linecap:butt;stroke-linejoin:miter;stroke:rgb(0%,0%,0%);stroke-opacity:1;stroke-miterlimit:10;\" d=\"M 24.5 182.640625 C 24.5 188.640625 15.5 188.640625 15.5 182.640625 C 15.5 176.640625 24.5 176.640625 24.5 182.640625 \"/>\n",
       "<path style=\"fill-rule:nonzero;fill:rgb(41.176471%,41.176471%,41.176471%);fill-opacity:1;stroke-width:1;stroke-linecap:butt;stroke-linejoin:miter;stroke:rgb(0%,0%,0%);stroke-opacity:1;stroke-miterlimit:10;\" d=\"M 261.867188 273.386719 C 261.867188 279.386719 252.867188 279.386719 252.867188 273.386719 C 252.867188 267.386719 261.867188 267.386719 261.867188 273.386719 \"/>\n",
       "<path style=\"fill-rule:nonzero;fill:rgb(41.176471%,41.176471%,41.176471%);fill-opacity:1;stroke-width:1;stroke-linecap:butt;stroke-linejoin:miter;stroke:rgb(0%,0%,0%);stroke-opacity:1;stroke-miterlimit:10;\" d=\"M 260.210938 276.050781 C 260.210938 282.050781 251.210938 282.050781 251.210938 276.050781 C 251.210938 270.050781 260.210938 270.050781 260.210938 276.050781 \"/>\n",
       "<path style=\"fill-rule:nonzero;fill:rgb(41.176471%,41.176471%,41.176471%);fill-opacity:1;stroke-width:1;stroke-linecap:butt;stroke-linejoin:miter;stroke:rgb(0%,0%,0%);stroke-opacity:1;stroke-miterlimit:10;\" d=\"M 169.828125 64.382812 C 169.828125 70.382812 160.828125 70.382812 160.828125 64.382812 C 160.828125 58.382812 169.828125 58.382812 169.828125 64.382812 \"/>\n",
       "<path style=\"fill-rule:nonzero;fill:rgb(41.176471%,41.176471%,41.176471%);fill-opacity:1;stroke-width:1;stroke-linecap:butt;stroke-linejoin:miter;stroke:rgb(0%,0%,0%);stroke-opacity:1;stroke-miterlimit:10;\" d=\"M 194.804688 20 C 194.804688 26 185.804688 26 185.804688 20 C 185.804688 14 194.804688 14 194.804688 20 \"/>\n",
       "<path style=\"fill-rule:nonzero;fill:rgb(41.176471%,41.176471%,41.176471%);fill-opacity:1;stroke-width:1;stroke-linecap:butt;stroke-linejoin:miter;stroke:rgb(0%,0%,0%);stroke-opacity:1;stroke-miterlimit:10;\" d=\"M 278.113281 106.238281 C 278.113281 112.238281 269.113281 112.238281 269.113281 106.238281 C 269.113281 100.238281 278.113281 100.238281 278.113281 106.238281 \"/>\n",
       "<path style=\"fill-rule:nonzero;fill:rgb(41.176471%,41.176471%,41.176471%);fill-opacity:1;stroke-width:1;stroke-linecap:butt;stroke-linejoin:miter;stroke:rgb(0%,0%,0%);stroke-opacity:1;stroke-miterlimit:10;\" d=\"M 265.816406 216.527344 C 265.816406 222.527344 256.816406 222.527344 256.816406 216.527344 C 256.816406 210.527344 265.816406 210.527344 265.816406 216.527344 \"/>\n",
       "</g>\n",
       "</svg>\n"
      ],
      "text/plain": [
       "<igraph.drawing.Plot at 0x7f8c4e9c1898>"
      ]
     },
     "execution_count": 1021,
     "metadata": {},
     "output_type": "execute_result"
    }
   ],
   "source": [
    "## plot using lat/lon as layout\n",
    "ly = ig.Layout(G.vs['layout'])\n",
    "ly.mirror(1)\n",
    "ig.plot(G, bbox=(0,0,300,300), layout=ly)"
   ]
  },
  {
   "cell_type": "code",
   "execution_count": 1022,
   "metadata": {},
   "outputs": [],
   "source": [
    "## compute normalized weights \n",
    "#####weight is the traffic for airport\n",
    "mw = np.max(G.es['weight'])\n",
    "G.es()['normalized_weight'] = [w/mw for w in G.es()['weight']]"
   ]
  },
  {
   "cell_type": "code",
   "execution_count": 1023,
   "metadata": {},
   "outputs": [],
   "source": [
    "## directed degree centrality\n",
    "def degree_centrality(g, weights=None):\n",
    "    n = g.vcount()\n",
    "    if g.is_directed():\n",
    "        dc = [sum(x)/(2*(n-1)) for x in zip(G.strength(mode='in',weights=weights),\\\n",
    "              G.strength(mode='out',weights=weights))]\n",
    "    else:\n",
    "        dc = [x/(n-1) for x in G.strength(weights=weights)]\n",
    "    return dc"
   ]
  },
  {
   "cell_type": "code",
   "execution_count": 1024,
   "metadata": {},
   "outputs": [
    {
     "data": {
      "text/html": [
       "<div>\n",
       "<style scoped>\n",
       "    .dataframe tbody tr th:only-of-type {\n",
       "        vertical-align: middle;\n",
       "    }\n",
       "\n",
       "    .dataframe tbody tr th {\n",
       "        vertical-align: top;\n",
       "    }\n",
       "\n",
       "    .dataframe thead th {\n",
       "        text-align: right;\n",
       "    }\n",
       "</style>\n",
       "<table border=\"1\" class=\"dataframe\">\n",
       "  <thead>\n",
       "    <tr style=\"text-align: right;\">\n",
       "      <th></th>\n",
       "      <th>airport</th>\n",
       "      <th>degree</th>\n",
       "      <th>pagerank</th>\n",
       "      <th>authority</th>\n",
       "      <th>hub</th>\n",
       "      <th>between</th>\n",
       "      <th>closeness</th>\n",
       "    </tr>\n",
       "  </thead>\n",
       "  <tbody>\n",
       "    <tr>\n",
       "      <th>0</th>\n",
       "      <td>JFK</td>\n",
       "      <td>0.129888</td>\n",
       "      <td>0.327591</td>\n",
       "      <td>1.000000</td>\n",
       "      <td>0.408982</td>\n",
       "      <td>0.356250</td>\n",
       "      <td>0.188235</td>\n",
       "    </tr>\n",
       "    <tr>\n",
       "      <th>2</th>\n",
       "      <td>BUF</td>\n",
       "      <td>0.076250</td>\n",
       "      <td>0.187059</td>\n",
       "      <td>0.285791</td>\n",
       "      <td>1.000000</td>\n",
       "      <td>0.092361</td>\n",
       "      <td>0.188235</td>\n",
       "    </tr>\n",
       "    <tr>\n",
       "      <th>4</th>\n",
       "      <td>ROC</td>\n",
       "      <td>0.041181</td>\n",
       "      <td>0.104569</td>\n",
       "      <td>0.154652</td>\n",
       "      <td>0.547064</td>\n",
       "      <td>0.000000</td>\n",
       "      <td>0.183908</td>\n",
       "    </tr>\n",
       "    <tr>\n",
       "      <th>5</th>\n",
       "      <td>SYR</td>\n",
       "      <td>0.033720</td>\n",
       "      <td>0.092804</td>\n",
       "      <td>0.124650</td>\n",
       "      <td>0.459323</td>\n",
       "      <td>0.134028</td>\n",
       "      <td>0.190476</td>\n",
       "    </tr>\n",
       "    <tr>\n",
       "      <th>1</th>\n",
       "      <td>LGA</td>\n",
       "      <td>0.030048</td>\n",
       "      <td>0.103628</td>\n",
       "      <td>0.213494</td>\n",
       "      <td>0.086202</td>\n",
       "      <td>0.157639</td>\n",
       "      <td>0.190476</td>\n",
       "    </tr>\n",
       "  </tbody>\n",
       "</table>\n",
       "</div>"
      ],
      "text/plain": [
       "  airport    degree  pagerank  authority       hub   between  closeness\n",
       "0     JFK  0.129888  0.327591   1.000000  0.408982  0.356250   0.188235\n",
       "2     BUF  0.076250  0.187059   0.285791  1.000000  0.092361   0.188235\n",
       "4     ROC  0.041181  0.104569   0.154652  0.547064  0.000000   0.183908\n",
       "5     SYR  0.033720  0.092804   0.124650  0.459323  0.134028   0.190476\n",
       "1     LGA  0.030048  0.103628   0.213494  0.086202  0.157639   0.190476"
      ]
     },
     "execution_count": 1024,
     "metadata": {},
     "output_type": "execute_result"
    }
   ],
   "source": [
    "## compute centrality measures\n",
    "C = pd.DataFrame({'airport':G.vs()['name'],\\\n",
    "                  'degree':degree_centrality(G,weights='normalized_weight'),\\\n",
    "                  'pagerank':G.pagerank(weights='weight'),'authority':G.authority_score(weights='weight'),\\\n",
    "                  'hub':G.hub_score(weights='weight'),'between':G.betweenness(),\\\n",
    "                  'closeness':G.closeness()})\n",
    "## normalize betweenness\n",
    "n = G.vcount()\n",
    "C['between'] = [2*x/((n-1)*(n-2)) for x in C['between']]\n",
    "## sort w.r.t. degree centrality\n",
    "Cs = C.sort_values(by='degree', ascending=False)\n",
    "df = Cs.head()\n",
    "df"
   ]
  },
  {
   "cell_type": "markdown",
   "metadata": {},
   "source": [
    "### Question 2\n",
    "#### (P) Generate Chung-Lu graph G(w) on n = 10;000 nodes and power-law degree distribution using the set of weights prescribed by (2.6) with   gamma = 2:5, delta = 1, and traingle =sqreroot(n) = 100. (We experimented with this model in Section 2.5.) For each centrality measure (degree, pagerank, authority, hub, between, closeness) compute f(k), the average centrality measure over all vertices of degree k. Plot f(k) as a function of k. Is there any visible correlation between a given centrality measure and degree of a node?"
   ]
  },
  {
   "cell_type": "code",
   "execution_count": 1025,
   "metadata": {},
   "outputs": [],
   "source": [
    "## fast Chung-Lu: generate m edges w.r.t. distribution d\n",
    "def fastCL(d, m):\n",
    "    n = len(d)\n",
    "    s = np.sum(d)\n",
    "    p = [i/s for i in d]\n",
    "    target = m\n",
    "    tples = []\n",
    "    while len(tples) < target:\n",
    "        s = target - len(tples)\n",
    "        e0 = np.random.choice(n, size=s, replace=True, p=p)\n",
    "        e1 = np.random.choice(n, size=s, replace=True, p=p)\n",
    "        tples.extend([(min(e0[i],e1[i]),max(e0[i],e1[i])) for i in range(len(e0)) if e0[i]!=e1[i]]) ## ignore loops\n",
    "        tples = list(set(tples)) ## drop collisions\n",
    "    return tples"
   ]
  },
  {
   "cell_type": "code",
   "execution_count": 1026,
   "metadata": {},
   "outputs": [],
   "source": [
    "## power law graph\n",
    "import numpy as np\n",
    "gamma = 2.5\n",
    "n = 10000\n",
    "delta = 1\n",
    "Delta = np.sqrt(n)\n",
    "W = []\n",
    "for i in np.arange(1,n+1):\n",
    "    W.append(delta * (n/(i-1+n/(Delta/delta)**(gamma-1)))**(1/(gamma-1)))\n",
    "\n",
    "deg = [int(np.round(w)) for w in W]\n",
    "\n",
    "\n",
    "m = int(np.mean(deg)*n/2)\n",
    "tpl = fastCL(deg,m)\n",
    "\n",
    "g1 = ig.Graph.TupleList(tpl, directed = True)\n",
    "g1.es['weight'] = W"
   ]
  },
  {
   "cell_type": "code",
   "execution_count": 1027,
   "metadata": {},
   "outputs": [],
   "source": [
    "## compute normalized weights \n",
    "#####weight is the traffic for airport\n",
    "mw = np.max(g1.es['weight'])\n",
    "g1.es()['normalized_weight'] = [w/mw for w in g1.es()['weight']]"
   ]
  },
  {
   "cell_type": "code",
   "execution_count": 1028,
   "metadata": {},
   "outputs": [],
   "source": [
    "## directed degree centrality\n",
    "def degree_centrality(g, weights=None):\n",
    "    n = g.vcount()\n",
    "    if g.is_directed():\n",
    "        dc = [sum(x)/(2*(n-1)) for x in zip(g1.strength(mode='in',weights=weights),\\\n",
    "              g1.strength(mode='out',weights=weights))]\n",
    "    else:\n",
    "        dc = [x/(n-1) for x in g1.strength(weights=weights)]\n",
    "    return dc"
   ]
  },
  {
   "cell_type": "code",
   "execution_count": 1029,
   "metadata": {},
   "outputs": [
    {
     "data": {
      "text/html": [
       "<div>\n",
       "<style scoped>\n",
       "    .dataframe tbody tr th:only-of-type {\n",
       "        vertical-align: middle;\n",
       "    }\n",
       "\n",
       "    .dataframe tbody tr th {\n",
       "        vertical-align: top;\n",
       "    }\n",
       "\n",
       "    .dataframe thead th {\n",
       "        text-align: right;\n",
       "    }\n",
       "</style>\n",
       "<table border=\"1\" class=\"dataframe\">\n",
       "  <thead>\n",
       "    <tr style=\"text-align: right;\">\n",
       "      <th></th>\n",
       "      <th>name</th>\n",
       "      <th>degree</th>\n",
       "      <th>pagerank</th>\n",
       "      <th>authority</th>\n",
       "      <th>hub</th>\n",
       "      <th>between</th>\n",
       "      <th>closeness</th>\n",
       "    </tr>\n",
       "  </thead>\n",
       "  <tbody>\n",
       "    <tr>\n",
       "      <th>25</th>\n",
       "      <td>0</td>\n",
       "      <td>2.801565e-04</td>\n",
       "      <td>0.000081</td>\n",
       "      <td>0.000000e+00</td>\n",
       "      <td>6.432939e-06</td>\n",
       "      <td>0.000000</td>\n",
       "      <td>0.002759</td>\n",
       "    </tr>\n",
       "    <tr>\n",
       "      <th>4</th>\n",
       "      <td>1</td>\n",
       "      <td>2.325277e-04</td>\n",
       "      <td>0.000081</td>\n",
       "      <td>0.000000e+00</td>\n",
       "      <td>5.229234e-04</td>\n",
       "      <td>0.000000</td>\n",
       "      <td>0.002758</td>\n",
       "    </tr>\n",
       "    <tr>\n",
       "      <th>65</th>\n",
       "      <td>10</td>\n",
       "      <td>2.250582e-04</td>\n",
       "      <td>0.000083</td>\n",
       "      <td>3.943196e-08</td>\n",
       "      <td>2.341545e-06</td>\n",
       "      <td>0.000203</td>\n",
       "      <td>0.002758</td>\n",
       "    </tr>\n",
       "    <tr>\n",
       "      <th>121</th>\n",
       "      <td>5</td>\n",
       "      <td>2.173379e-04</td>\n",
       "      <td>0.000094</td>\n",
       "      <td>4.094158e-06</td>\n",
       "      <td>1.593526e-04</td>\n",
       "      <td>0.000105</td>\n",
       "      <td>0.002759</td>\n",
       "    </tr>\n",
       "    <tr>\n",
       "      <th>33</th>\n",
       "      <td>13</td>\n",
       "      <td>2.068239e-04</td>\n",
       "      <td>0.000085</td>\n",
       "      <td>8.638799e-05</td>\n",
       "      <td>1.418812e-06</td>\n",
       "      <td>0.000029</td>\n",
       "      <td>0.002758</td>\n",
       "    </tr>\n",
       "    <tr>\n",
       "      <th>...</th>\n",
       "      <td>...</td>\n",
       "      <td>...</td>\n",
       "      <td>...</td>\n",
       "      <td>...</td>\n",
       "      <td>...</td>\n",
       "      <td>...</td>\n",
       "      <td>...</td>\n",
       "    </tr>\n",
       "    <tr>\n",
       "      <th>7042</th>\n",
       "      <td>7682</td>\n",
       "      <td>6.351930e-07</td>\n",
       "      <td>0.000177</td>\n",
       "      <td>0.000000e+00</td>\n",
       "      <td>0.000000e+00</td>\n",
       "      <td>0.000000</td>\n",
       "      <td>0.002738</td>\n",
       "    </tr>\n",
       "    <tr>\n",
       "      <th>7043</th>\n",
       "      <td>3355</td>\n",
       "      <td>6.351507e-07</td>\n",
       "      <td>0.000081</td>\n",
       "      <td>0.000000e+00</td>\n",
       "      <td>2.995142e-15</td>\n",
       "      <td>0.000000</td>\n",
       "      <td>0.002730</td>\n",
       "    </tr>\n",
       "    <tr>\n",
       "      <th>7044</th>\n",
       "      <td>7599</td>\n",
       "      <td>6.351084e-07</td>\n",
       "      <td>0.000084</td>\n",
       "      <td>2.019200e-06</td>\n",
       "      <td>0.000000e+00</td>\n",
       "      <td>0.000000</td>\n",
       "      <td>0.002746</td>\n",
       "    </tr>\n",
       "    <tr>\n",
       "      <th>7045</th>\n",
       "      <td>6306</td>\n",
       "      <td>6.350661e-07</td>\n",
       "      <td>0.000082</td>\n",
       "      <td>1.347639e-09</td>\n",
       "      <td>0.000000e+00</td>\n",
       "      <td>0.000000</td>\n",
       "      <td>0.002751</td>\n",
       "    </tr>\n",
       "    <tr>\n",
       "      <th>7046</th>\n",
       "      <td>4046</td>\n",
       "      <td>6.350238e-07</td>\n",
       "      <td>0.000082</td>\n",
       "      <td>5.597849e-08</td>\n",
       "      <td>0.000000e+00</td>\n",
       "      <td>0.000000</td>\n",
       "      <td>0.002752</td>\n",
       "    </tr>\n",
       "  </tbody>\n",
       "</table>\n",
       "<p>7870 rows × 7 columns</p>\n",
       "</div>"
      ],
      "text/plain": [
       "      name        degree  pagerank     authority           hub   between  \\\n",
       "25       0  2.801565e-04  0.000081  0.000000e+00  6.432939e-06  0.000000   \n",
       "4        1  2.325277e-04  0.000081  0.000000e+00  5.229234e-04  0.000000   \n",
       "65      10  2.250582e-04  0.000083  3.943196e-08  2.341545e-06  0.000203   \n",
       "121      5  2.173379e-04  0.000094  4.094158e-06  1.593526e-04  0.000105   \n",
       "33      13  2.068239e-04  0.000085  8.638799e-05  1.418812e-06  0.000029   \n",
       "...    ...           ...       ...           ...           ...       ...   \n",
       "7042  7682  6.351930e-07  0.000177  0.000000e+00  0.000000e+00  0.000000   \n",
       "7043  3355  6.351507e-07  0.000081  0.000000e+00  2.995142e-15  0.000000   \n",
       "7044  7599  6.351084e-07  0.000084  2.019200e-06  0.000000e+00  0.000000   \n",
       "7045  6306  6.350661e-07  0.000082  1.347639e-09  0.000000e+00  0.000000   \n",
       "7046  4046  6.350238e-07  0.000082  5.597849e-08  0.000000e+00  0.000000   \n",
       "\n",
       "      closeness  \n",
       "25     0.002759  \n",
       "4      0.002758  \n",
       "65     0.002758  \n",
       "121    0.002759  \n",
       "33     0.002758  \n",
       "...         ...  \n",
       "7042   0.002738  \n",
       "7043   0.002730  \n",
       "7044   0.002746  \n",
       "7045   0.002751  \n",
       "7046   0.002752  \n",
       "\n",
       "[7870 rows x 7 columns]"
      ]
     },
     "execution_count": 1029,
     "metadata": {},
     "output_type": "execute_result"
    }
   ],
   "source": [
    "## compute several centrality measures\n",
    "C = pd.DataFrame({'name':g1.vs()['name'],\\\n",
    "                  'degree':degree_centrality(g1,weights='normalized_weight'),\\\n",
    "                  'pagerank':g1.pagerank(weights='weight'),'authority':g1.authority_score(weights='weight'),\\\n",
    "                  'hub':g1.hub_score(weights='weight'),'between':g1.betweenness(),\\\n",
    "                  'closeness':g1.closeness()})\n",
    "## normalize betweenness\n",
    "n = g1.vcount()\n",
    "C['between'] = [2*x/((n-1)*(n-2)) for x in C['between']]\n",
    "## sort w.r.t. degree centrality\n",
    "Cs = C.sort_values(by='degree', ascending=False)\n",
    "\n",
    "df = Cs\n",
    "df"
   ]
  },
  {
   "cell_type": "code",
   "execution_count": 1030,
   "metadata": {},
   "outputs": [
    {
     "data": {
      "text/html": [
       "<div>\n",
       "<style scoped>\n",
       "    .dataframe tbody tr th:only-of-type {\n",
       "        vertical-align: middle;\n",
       "    }\n",
       "\n",
       "    .dataframe tbody tr th {\n",
       "        vertical-align: top;\n",
       "    }\n",
       "\n",
       "    .dataframe thead th {\n",
       "        text-align: right;\n",
       "    }\n",
       "</style>\n",
       "<table border=\"1\" class=\"dataframe\">\n",
       "  <thead>\n",
       "    <tr style=\"text-align: right;\">\n",
       "      <th></th>\n",
       "      <th>name</th>\n",
       "      <th>degree</th>\n",
       "      <th>pagerank</th>\n",
       "      <th>authority</th>\n",
       "      <th>hub</th>\n",
       "      <th>between</th>\n",
       "      <th>closeness</th>\n",
       "    </tr>\n",
       "  </thead>\n",
       "  <tbody>\n",
       "    <tr>\n",
       "      <th>25</th>\n",
       "      <td>0</td>\n",
       "      <td>2.801565e-04</td>\n",
       "      <td>0.000081</td>\n",
       "      <td>0.000000e+00</td>\n",
       "      <td>6.432939e-06</td>\n",
       "      <td>0.000000</td>\n",
       "      <td>0.002759</td>\n",
       "    </tr>\n",
       "    <tr>\n",
       "      <th>4</th>\n",
       "      <td>1</td>\n",
       "      <td>2.325277e-04</td>\n",
       "      <td>0.000081</td>\n",
       "      <td>0.000000e+00</td>\n",
       "      <td>5.229234e-04</td>\n",
       "      <td>0.000000</td>\n",
       "      <td>0.002758</td>\n",
       "    </tr>\n",
       "    <tr>\n",
       "      <th>65</th>\n",
       "      <td>10</td>\n",
       "      <td>2.250582e-04</td>\n",
       "      <td>0.000083</td>\n",
       "      <td>3.943196e-08</td>\n",
       "      <td>2.341545e-06</td>\n",
       "      <td>0.000203</td>\n",
       "      <td>0.002758</td>\n",
       "    </tr>\n",
       "    <tr>\n",
       "      <th>121</th>\n",
       "      <td>5</td>\n",
       "      <td>2.173379e-04</td>\n",
       "      <td>0.000094</td>\n",
       "      <td>4.094158e-06</td>\n",
       "      <td>1.593526e-04</td>\n",
       "      <td>0.000105</td>\n",
       "      <td>0.002759</td>\n",
       "    </tr>\n",
       "    <tr>\n",
       "      <th>33</th>\n",
       "      <td>13</td>\n",
       "      <td>2.068239e-04</td>\n",
       "      <td>0.000085</td>\n",
       "      <td>8.638799e-05</td>\n",
       "      <td>1.418812e-06</td>\n",
       "      <td>0.000029</td>\n",
       "      <td>0.002758</td>\n",
       "    </tr>\n",
       "    <tr>\n",
       "      <th>...</th>\n",
       "      <td>...</td>\n",
       "      <td>...</td>\n",
       "      <td>...</td>\n",
       "      <td>...</td>\n",
       "      <td>...</td>\n",
       "      <td>...</td>\n",
       "      <td>...</td>\n",
       "    </tr>\n",
       "    <tr>\n",
       "      <th>7042</th>\n",
       "      <td>7682</td>\n",
       "      <td>6.351930e-07</td>\n",
       "      <td>0.000177</td>\n",
       "      <td>0.000000e+00</td>\n",
       "      <td>0.000000e+00</td>\n",
       "      <td>0.000000</td>\n",
       "      <td>0.002738</td>\n",
       "    </tr>\n",
       "    <tr>\n",
       "      <th>7043</th>\n",
       "      <td>3355</td>\n",
       "      <td>6.351507e-07</td>\n",
       "      <td>0.000081</td>\n",
       "      <td>0.000000e+00</td>\n",
       "      <td>2.995142e-15</td>\n",
       "      <td>0.000000</td>\n",
       "      <td>0.002730</td>\n",
       "    </tr>\n",
       "    <tr>\n",
       "      <th>7044</th>\n",
       "      <td>7599</td>\n",
       "      <td>6.351084e-07</td>\n",
       "      <td>0.000084</td>\n",
       "      <td>2.019200e-06</td>\n",
       "      <td>0.000000e+00</td>\n",
       "      <td>0.000000</td>\n",
       "      <td>0.002746</td>\n",
       "    </tr>\n",
       "    <tr>\n",
       "      <th>7045</th>\n",
       "      <td>6306</td>\n",
       "      <td>6.350661e-07</td>\n",
       "      <td>0.000082</td>\n",
       "      <td>1.347639e-09</td>\n",
       "      <td>0.000000e+00</td>\n",
       "      <td>0.000000</td>\n",
       "      <td>0.002751</td>\n",
       "    </tr>\n",
       "    <tr>\n",
       "      <th>7046</th>\n",
       "      <td>4046</td>\n",
       "      <td>6.350238e-07</td>\n",
       "      <td>0.000082</td>\n",
       "      <td>5.597849e-08</td>\n",
       "      <td>0.000000e+00</td>\n",
       "      <td>0.000000</td>\n",
       "      <td>0.002752</td>\n",
       "    </tr>\n",
       "  </tbody>\n",
       "</table>\n",
       "<p>7870 rows × 7 columns</p>\n",
       "</div>"
      ],
      "text/plain": [
       "      name        degree  pagerank     authority           hub   between  \\\n",
       "25       0  2.801565e-04  0.000081  0.000000e+00  6.432939e-06  0.000000   \n",
       "4        1  2.325277e-04  0.000081  0.000000e+00  5.229234e-04  0.000000   \n",
       "65      10  2.250582e-04  0.000083  3.943196e-08  2.341545e-06  0.000203   \n",
       "121      5  2.173379e-04  0.000094  4.094158e-06  1.593526e-04  0.000105   \n",
       "33      13  2.068239e-04  0.000085  8.638799e-05  1.418812e-06  0.000029   \n",
       "...    ...           ...       ...           ...           ...       ...   \n",
       "7042  7682  6.351930e-07  0.000177  0.000000e+00  0.000000e+00  0.000000   \n",
       "7043  3355  6.351507e-07  0.000081  0.000000e+00  2.995142e-15  0.000000   \n",
       "7044  7599  6.351084e-07  0.000084  2.019200e-06  0.000000e+00  0.000000   \n",
       "7045  6306  6.350661e-07  0.000082  1.347639e-09  0.000000e+00  0.000000   \n",
       "7046  4046  6.350238e-07  0.000082  5.597849e-08  0.000000e+00  0.000000   \n",
       "\n",
       "      closeness  \n",
       "25     0.002759  \n",
       "4      0.002758  \n",
       "65     0.002758  \n",
       "121    0.002759  \n",
       "33     0.002758  \n",
       "...         ...  \n",
       "7042   0.002738  \n",
       "7043   0.002730  \n",
       "7044   0.002746  \n",
       "7045   0.002751  \n",
       "7046   0.002752  \n",
       "\n",
       "[7870 rows x 7 columns]"
      ]
     },
     "execution_count": 1030,
     "metadata": {},
     "output_type": "execute_result"
    }
   ],
   "source": [
    "deg = g1.degree()\n",
    "d5 = pd.DataFrame(deg)\n",
    "df"
   ]
  },
  {
   "cell_type": "code",
   "execution_count": 1031,
   "metadata": {},
   "outputs": [
    {
     "data": {
      "text/html": [
       "<div>\n",
       "<style scoped>\n",
       "    .dataframe tbody tr th:only-of-type {\n",
       "        vertical-align: middle;\n",
       "    }\n",
       "\n",
       "    .dataframe tbody tr th {\n",
       "        vertical-align: top;\n",
       "    }\n",
       "\n",
       "    .dataframe thead th {\n",
       "        text-align: right;\n",
       "    }\n",
       "</style>\n",
       "<table border=\"1\" class=\"dataframe\">\n",
       "  <thead>\n",
       "    <tr style=\"text-align: right;\">\n",
       "      <th></th>\n",
       "      <th>deg</th>\n",
       "      <th>degree</th>\n",
       "      <th>pagerank</th>\n",
       "      <th>authority</th>\n",
       "      <th>hub</th>\n",
       "      <th>between</th>\n",
       "      <th>closeness</th>\n",
       "    </tr>\n",
       "  </thead>\n",
       "  <tbody>\n",
       "    <tr>\n",
       "      <th>0</th>\n",
       "      <td>1</td>\n",
       "      <td>0.000002</td>\n",
       "      <td>0.000112</td>\n",
       "      <td>2.579721e-04</td>\n",
       "      <td>1.551215e-08</td>\n",
       "      <td>0.000000e+00</td>\n",
       "      <td>0.002424</td>\n",
       "    </tr>\n",
       "    <tr>\n",
       "      <th>1</th>\n",
       "      <td>2</td>\n",
       "      <td>0.000004</td>\n",
       "      <td>0.000136</td>\n",
       "      <td>3.480963e-06</td>\n",
       "      <td>1.090137e-07</td>\n",
       "      <td>2.652190e-07</td>\n",
       "      <td>0.002702</td>\n",
       "    </tr>\n",
       "    <tr>\n",
       "      <th>2</th>\n",
       "      <td>3</td>\n",
       "      <td>0.000007</td>\n",
       "      <td>0.000148</td>\n",
       "      <td>1.205395e-05</td>\n",
       "      <td>8.430576e-08</td>\n",
       "      <td>7.635887e-07</td>\n",
       "      <td>0.002747</td>\n",
       "    </tr>\n",
       "    <tr>\n",
       "      <th>3</th>\n",
       "      <td>4</td>\n",
       "      <td>0.000008</td>\n",
       "      <td>0.000144</td>\n",
       "      <td>1.638838e-03</td>\n",
       "      <td>1.102397e-08</td>\n",
       "      <td>1.928471e-06</td>\n",
       "      <td>0.002748</td>\n",
       "    </tr>\n",
       "    <tr>\n",
       "      <th>4</th>\n",
       "      <td>5</td>\n",
       "      <td>0.000010</td>\n",
       "      <td>0.000139</td>\n",
       "      <td>4.273509e-07</td>\n",
       "      <td>8.911382e-07</td>\n",
       "      <td>3.232838e-06</td>\n",
       "      <td>0.002749</td>\n",
       "    </tr>\n",
       "    <tr>\n",
       "      <th>...</th>\n",
       "      <td>...</td>\n",
       "      <td>...</td>\n",
       "      <td>...</td>\n",
       "      <td>...</td>\n",
       "      <td>...</td>\n",
       "      <td>...</td>\n",
       "      <td>...</td>\n",
       "    </tr>\n",
       "    <tr>\n",
       "      <th>58</th>\n",
       "      <td>77</td>\n",
       "      <td>0.000188</td>\n",
       "      <td>0.000083</td>\n",
       "      <td>2.866908e-05</td>\n",
       "      <td>1.620298e-06</td>\n",
       "      <td>1.296401e-04</td>\n",
       "      <td>0.002759</td>\n",
       "    </tr>\n",
       "    <tr>\n",
       "      <th>59</th>\n",
       "      <td>83</td>\n",
       "      <td>0.000217</td>\n",
       "      <td>0.000094</td>\n",
       "      <td>4.094158e-06</td>\n",
       "      <td>1.593526e-04</td>\n",
       "      <td>1.048844e-04</td>\n",
       "      <td>0.002759</td>\n",
       "    </tr>\n",
       "    <tr>\n",
       "      <th>60</th>\n",
       "      <td>84</td>\n",
       "      <td>0.000179</td>\n",
       "      <td>0.000081</td>\n",
       "      <td>0.000000e+00</td>\n",
       "      <td>9.346193e-07</td>\n",
       "      <td>0.000000e+00</td>\n",
       "      <td>0.002758</td>\n",
       "    </tr>\n",
       "    <tr>\n",
       "      <th>61</th>\n",
       "      <td>86</td>\n",
       "      <td>0.000218</td>\n",
       "      <td>0.000082</td>\n",
       "      <td>9.958389e-06</td>\n",
       "      <td>2.626652e-04</td>\n",
       "      <td>3.003293e-05</td>\n",
       "      <td>0.002759</td>\n",
       "    </tr>\n",
       "    <tr>\n",
       "      <th>62</th>\n",
       "      <td>99</td>\n",
       "      <td>0.000280</td>\n",
       "      <td>0.000081</td>\n",
       "      <td>0.000000e+00</td>\n",
       "      <td>6.432939e-06</td>\n",
       "      <td>0.000000e+00</td>\n",
       "      <td>0.002759</td>\n",
       "    </tr>\n",
       "  </tbody>\n",
       "</table>\n",
       "<p>63 rows × 7 columns</p>\n",
       "</div>"
      ],
      "text/plain": [
       "    deg    degree  pagerank     authority           hub       between  \\\n",
       "0     1  0.000002  0.000112  2.579721e-04  1.551215e-08  0.000000e+00   \n",
       "1     2  0.000004  0.000136  3.480963e-06  1.090137e-07  2.652190e-07   \n",
       "2     3  0.000007  0.000148  1.205395e-05  8.430576e-08  7.635887e-07   \n",
       "3     4  0.000008  0.000144  1.638838e-03  1.102397e-08  1.928471e-06   \n",
       "4     5  0.000010  0.000139  4.273509e-07  8.911382e-07  3.232838e-06   \n",
       "..  ...       ...       ...           ...           ...           ...   \n",
       "58   77  0.000188  0.000083  2.866908e-05  1.620298e-06  1.296401e-04   \n",
       "59   83  0.000217  0.000094  4.094158e-06  1.593526e-04  1.048844e-04   \n",
       "60   84  0.000179  0.000081  0.000000e+00  9.346193e-07  0.000000e+00   \n",
       "61   86  0.000218  0.000082  9.958389e-06  2.626652e-04  3.003293e-05   \n",
       "62   99  0.000280  0.000081  0.000000e+00  6.432939e-06  0.000000e+00   \n",
       "\n",
       "    closeness  \n",
       "0    0.002424  \n",
       "1    0.002702  \n",
       "2    0.002747  \n",
       "3    0.002748  \n",
       "4    0.002749  \n",
       "..        ...  \n",
       "58   0.002759  \n",
       "59   0.002759  \n",
       "60   0.002758  \n",
       "61   0.002759  \n",
       "62   0.002759  \n",
       "\n",
       "[63 rows x 7 columns]"
      ]
     },
     "execution_count": 1031,
     "metadata": {},
     "output_type": "execute_result"
    }
   ],
   "source": [
    "d5['deg'] = d5[0]\n",
    "d5['name'] = g1.vs()['name']\n",
    "del d5[0]\n",
    "d6 = d5.merge(Cs)\n",
    "d7 = d6.groupby('deg').agg({\"degree\":'mean',\"pagerank\":'mean','authority': 'mean','hub': 'mean', 'between': 'mean', 'closeness': 'mean' }).reset_index()\n",
    "d7"
   ]
  },
  {
   "cell_type": "markdown",
   "metadata": {},
   "source": [
    "### Correlation between degree of node and closeness"
   ]
  },
  {
   "cell_type": "code",
   "execution_count": 1032,
   "metadata": {},
   "outputs": [
    {
     "data": {
      "text/plain": [
       "Text(0.5, 1.0, 'Degree of node and Closeness centrality measure')"
      ]
     },
     "execution_count": 1032,
     "metadata": {},
     "output_type": "execute_result"
    },
    {
     "data": {
      "image/png": "[encoded data removed]",
      "text/plain": [
       "<Figure size 432x288 with 1 Axes>"
      ]
     },
     "metadata": {
      "needs_background": "light"
     },
     "output_type": "display_data"
    }
   ],
   "source": [
    "plt.scatter(np.log(d7['deg']),np.log(d7['closeness']))\n",
    "plt.xlabel(\"degree of node\")\n",
    "plt.ylabel(\"closeness centrality\")\n",
    "plt.title(\"Degree of node and Closeness centrality measure\")"
   ]
  },
  {
   "cell_type": "markdown",
   "metadata": {},
   "source": [
    "The graph shows positive correaltion between degree of nodes and closeness centrality measure"
   ]
  },
  {
   "cell_type": "markdown",
   "metadata": {},
   "source": [
    "### Correlation between degree of node and pagerank"
   ]
  },
  {
   "cell_type": "code",
   "execution_count": 1033,
   "metadata": {},
   "outputs": [
    {
     "data": {
      "text/plain": [
       "Text(0.5, 1.0, 'Degree of node and Pagerank centrality measure')"
      ]
     },
     "execution_count": 1033,
     "metadata": {},
     "output_type": "execute_result"
    },
    {
     "data": {
      "image/png": "[encoded data removed]",
      "text/plain": [
       "<Figure size 432x288 with 1 Axes>"
      ]
     },
     "metadata": {
      "needs_background": "light"
     },
     "output_type": "display_data"
    }
   ],
   "source": [
    "plt.scatter(d7['deg'],np.log(d7['pagerank']))\n",
    "plt.xlabel(\"degree of node\")\n",
    "plt.ylabel(\"pagerank centrality\")\n",
    "plt.title(\"Degree of node and Pagerank centrality measure\")"
   ]
  },
  {
   "cell_type": "markdown",
   "metadata": {},
   "source": [
    "The graph shows negative correaltion between degree of nodes and pagerank centrality measure"
   ]
  },
  {
   "cell_type": "markdown",
   "metadata": {},
   "source": [
    "### Correlation between degree of node and betweenness centrality measure"
   ]
  },
  {
   "cell_type": "code",
   "execution_count": 1034,
   "metadata": {},
   "outputs": [
    {
     "name": "stderr",
     "output_type": "stream",
     "text": [
      "/Users/user/anaconda3/lib/python3.7/site-packages/pandas/core/series.py:726: RuntimeWarning: divide by zero encountered in log\n",
      "  result = getattr(ufunc, method)(*inputs, **kwargs)\n"
     ]
    },
    {
     "data": {
      "text/plain": [
       "Text(0.5, 1.0, 'Degree of node and Betweenness centrality measure')"
      ]
     },
     "execution_count": 1034,
     "metadata": {},
     "output_type": "execute_result"
    },
    {
     "data": {
      "image/png": "[encoded data removed]",
      "text/plain": [
       "<Figure size 432x288 with 1 Axes>"
      ]
     },
     "metadata": {
      "needs_background": "light"
     },
     "output_type": "display_data"
    }
   ],
   "source": [
    "plt.scatter(np.log(d7['deg']),np.log(d7['between']))\n",
    "plt.xlabel(\"degree of node\")\n",
    "plt.ylabel(\"betweenness centrality\")\n",
    "plt.title(\"Degree of node and Betweenness centrality measure\")"
   ]
  },
  {
   "cell_type": "markdown",
   "metadata": {},
   "source": [
    "The graph shows positive correaltion between degree of nodes and betwenness centrality measure"
   ]
  },
  {
   "cell_type": "markdown",
   "metadata": {},
   "source": [
    "### Correlation between degree of node and hub centrality measure"
   ]
  },
  {
   "cell_type": "code",
   "execution_count": 1035,
   "metadata": {},
   "outputs": [
    {
     "data": {
      "text/plain": [
       "Text(0.5, 1.0, 'Degree of node and Hub centrality measure')"
      ]
     },
     "execution_count": 1035,
     "metadata": {},
     "output_type": "execute_result"
    },
    {
     "data": {
      "image/png": "[encoded data removed]",
      "text/plain": [
       "<Figure size 432x288 with 1 Axes>"
      ]
     },
     "metadata": {
      "needs_background": "light"
     },
     "output_type": "display_data"
    }
   ],
   "source": [
    "plt.scatter(np.log(d7['deg']),np.log(d7['hub']))\n",
    "plt.xlabel(\"degree of node\")\n",
    "plt.ylabel(\"hub centrality\")\n",
    "plt.title(\"Degree of node and Hub centrality measure\")"
   ]
  },
  {
   "cell_type": "markdown",
   "metadata": {},
   "source": [
    "The graph shows low negative correaltion between degree of nodes and hub centrality measure"
   ]
  },
  {
   "cell_type": "markdown",
   "metadata": {},
   "source": [
    "### Correlation between degree of node and authority centrality measure"
   ]
  },
  {
   "cell_type": "code",
   "execution_count": 1036,
   "metadata": {},
   "outputs": [
    {
     "data": {
      "text/plain": [
       "Text(0.5, 1.0, 'Degree of node and Authority centrality measure')"
      ]
     },
     "execution_count": 1036,
     "metadata": {},
     "output_type": "execute_result"
    },
    {
     "data": {
      "image/png": "[encoded data removed]",
      "text/plain": [
       "<Figure size 432x288 with 1 Axes>"
      ]
     },
     "metadata": {
      "needs_background": "light"
     },
     "output_type": "display_data"
    }
   ],
   "source": [
    "plt.scatter(np.log(d7['deg']),np.log(d7['authority']))\n",
    "plt.xlabel(\"degree of node\")\n",
    "plt.ylabel(\"authority centrality\")\n",
    "plt.title(\"Degree of node and Authority centrality measure\")"
   ]
  },
  {
   "cell_type": "markdown",
   "metadata": {},
   "source": [
    "The graph shows low negative correaltion between degree of nodes and authority centrality measure"
   ]
  },
  {
   "cell_type": "markdown",
   "metadata": {},
   "source": [
    "### Correlation between degree of node and degree centrality measure"
   ]
  },
  {
   "cell_type": "code",
   "execution_count": 1037,
   "metadata": {},
   "outputs": [
    {
     "data": {
      "text/plain": [
       "Text(0.5, 1.0, 'Degree of node and Degree centrality measure')"
      ]
     },
     "execution_count": 1037,
     "metadata": {},
     "output_type": "execute_result"
    },
    {
     "data": {
      "image/png": "[encoded data removed]",
      "text/plain": [
       "<Figure size 432x288 with 1 Axes>"
      ]
     },
     "metadata": {
      "needs_background": "light"
     },
     "output_type": "display_data"
    }
   ],
   "source": [
    "plt.scatter(np.log(d7['deg']),np.log(d7['degree']))\n",
    "plt.xlabel(\"degree of node\")\n",
    "plt.ylabel(\"degree centrality\")\n",
    "plt.title(\"Degree of node and Degree centrality measure\")"
   ]
  },
  {
   "cell_type": "markdown",
   "metadata": {},
   "source": [
    "The graph shows highly positive correaltion between degree of nodes and degree centrality measure"
   ]
  },
  {
   "cell_type": "markdown",
   "metadata": {},
   "source": [
    "### Question 3\n",
    "#### The original airport dataset (464 nodes, 12{,}000 directed weighted edges) is not strongly connected but it is almost weakly connected. There are two weak components: the giant one consisting of all but two airports, and the small one with two airports that only link to each other. Remove the two nodes to make the graph weakly connected. For each centrality measure (degree, pagerank, authority, hub, between, closeness) perform the following experiment. Sort all nodes with respect to a given centrality measure. How many nodes with the largest score do we need to remove to so that the graph is no longer weakly connected? Compare this with the number of nodes with the smallest score that need to be removed."
   ]
  },
  {
   "cell_type": "code",
   "execution_count": 1038,
   "metadata": {},
   "outputs": [
    {
     "data": {
      "text/html": [
       "<div>\n",
       "<style scoped>\n",
       "    .dataframe tbody tr th:only-of-type {\n",
       "        vertical-align: middle;\n",
       "    }\n",
       "\n",
       "    .dataframe tbody tr th {\n",
       "        vertical-align: top;\n",
       "    }\n",
       "\n",
       "    .dataframe thead th {\n",
       "        text-align: right;\n",
       "    }\n",
       "</style>\n",
       "<table border=\"1\" class=\"dataframe\">\n",
       "  <thead>\n",
       "    <tr style=\"text-align: right;\">\n",
       "      <th></th>\n",
       "      <th>orig_airport</th>\n",
       "      <th>dest_airport</th>\n",
       "      <th>total_passengers</th>\n",
       "    </tr>\n",
       "  </thead>\n",
       "  <tbody>\n",
       "    <tr>\n",
       "      <th>0</th>\n",
       "      <td>SFO</td>\n",
       "      <td>LAX</td>\n",
       "      <td>1442105</td>\n",
       "    </tr>\n",
       "    <tr>\n",
       "      <th>1</th>\n",
       "      <td>LAX</td>\n",
       "      <td>SFO</td>\n",
       "      <td>1438639</td>\n",
       "    </tr>\n",
       "    <tr>\n",
       "      <th>2</th>\n",
       "      <td>MCO</td>\n",
       "      <td>ATL</td>\n",
       "      <td>1436625</td>\n",
       "    </tr>\n",
       "    <tr>\n",
       "      <th>3</th>\n",
       "      <td>ATL</td>\n",
       "      <td>MCO</td>\n",
       "      <td>1424069</td>\n",
       "    </tr>\n",
       "    <tr>\n",
       "      <th>4</th>\n",
       "      <td>LAX</td>\n",
       "      <td>JFK</td>\n",
       "      <td>1277731</td>\n",
       "    </tr>\n",
       "  </tbody>\n",
       "</table>\n",
       "</div>"
      ],
      "text/plain": [
       "  orig_airport dest_airport  total_passengers\n",
       "0          SFO          LAX           1442105\n",
       "1          LAX          SFO           1438639\n",
       "2          MCO          ATL           1436625\n",
       "3          ATL          MCO           1424069\n",
       "4          LAX          JFK           1277731"
      ]
     },
     "execution_count": 1038,
     "metadata": {},
     "output_type": "execute_result"
    }
   ],
   "source": [
    "## read edges and build weighted directed graph\n",
    "D = pd.read_csv(datadir+'Airports/connections.csv')\n",
    "D.head()"
   ]
  },
  {
   "cell_type": "code",
   "execution_count": 1039,
   "metadata": {},
   "outputs": [
    {
     "data": {
      "text/plain": [
       "464"
      ]
     },
     "execution_count": 1039,
     "metadata": {},
     "output_type": "execute_result"
    }
   ],
   "source": [
    "#create a graph\n",
    "g = ig.Graph.TupleList([tuple(x) for x in D.values], directed = True, edge_attrs = ['weight'])\n",
    "g.vcount()"
   ]
  },
  {
   "cell_type": "code",
   "execution_count": 1040,
   "metadata": {},
   "outputs": [
    {
     "data": {
      "text/html": [
       "<div>\n",
       "<style scoped>\n",
       "    .dataframe tbody tr th:only-of-type {\n",
       "        vertical-align: middle;\n",
       "    }\n",
       "\n",
       "    .dataframe tbody tr th {\n",
       "        vertical-align: top;\n",
       "    }\n",
       "\n",
       "    .dataframe thead th {\n",
       "        text-align: right;\n",
       "    }\n",
       "</style>\n",
       "<table border=\"1\" class=\"dataframe\">\n",
       "  <thead>\n",
       "    <tr style=\"text-align: right;\">\n",
       "      <th></th>\n",
       "      <th>0</th>\n",
       "    </tr>\n",
       "  </thead>\n",
       "  <tbody>\n",
       "    <tr>\n",
       "      <th>0</th>\n",
       "      <td>0</td>\n",
       "    </tr>\n",
       "    <tr>\n",
       "      <th>1</th>\n",
       "      <td>0</td>\n",
       "    </tr>\n",
       "    <tr>\n",
       "      <th>2</th>\n",
       "      <td>0</td>\n",
       "    </tr>\n",
       "    <tr>\n",
       "      <th>3</th>\n",
       "      <td>0</td>\n",
       "    </tr>\n",
       "    <tr>\n",
       "      <th>4</th>\n",
       "      <td>0</td>\n",
       "    </tr>\n",
       "    <tr>\n",
       "      <th>...</th>\n",
       "      <td>...</td>\n",
       "    </tr>\n",
       "    <tr>\n",
       "      <th>459</th>\n",
       "      <td>0</td>\n",
       "    </tr>\n",
       "    <tr>\n",
       "      <th>460</th>\n",
       "      <td>1</td>\n",
       "    </tr>\n",
       "    <tr>\n",
       "      <th>461</th>\n",
       "      <td>1</td>\n",
       "    </tr>\n",
       "    <tr>\n",
       "      <th>462</th>\n",
       "      <td>0</td>\n",
       "    </tr>\n",
       "    <tr>\n",
       "      <th>463</th>\n",
       "      <td>0</td>\n",
       "    </tr>\n",
       "  </tbody>\n",
       "</table>\n",
       "<p>464 rows × 1 columns</p>\n",
       "</div>"
      ],
      "text/plain": [
       "     0\n",
       "0    0\n",
       "1    0\n",
       "2    0\n",
       "3    0\n",
       "4    0\n",
       "..  ..\n",
       "459  0\n",
       "460  1\n",
       "461  1\n",
       "462  0\n",
       "463  0\n",
       "\n",
       "[464 rows x 1 columns]"
      ]
     },
     "execution_count": 1040,
     "metadata": {},
     "output_type": "execute_result"
    }
   ],
   "source": [
    "#find the weakest componenets in the graph\n",
    "a = g.clusters(mode = \"weak\").membership\n",
    "b = pd.DataFrame(a)\n",
    "b"
   ]
  },
  {
   "cell_type": "code",
   "execution_count": 1041,
   "metadata": {},
   "outputs": [
    {
     "data": {
      "text/plain": [
       "462"
      ]
     },
     "execution_count": 1041,
     "metadata": {},
     "output_type": "execute_result"
    }
   ],
   "source": [
    "#delete the weakest components from the graph\n",
    "g.delete_vertices([460,461])\n",
    "g.vcount()"
   ]
  },
  {
   "cell_type": "code",
   "execution_count": 1042,
   "metadata": {},
   "outputs": [
    {
     "data": {
      "text/plain": [
       "True"
      ]
     },
     "execution_count": 1042,
     "metadata": {},
     "output_type": "execute_result"
    }
   ],
   "source": [
    "#The graph is weakly connected now\n",
    "g.is_connected(mode=\"weak\")"
   ]
  },
  {
   "cell_type": "code",
   "execution_count": 1043,
   "metadata": {},
   "outputs": [],
   "source": [
    "mw = np.max(g.es['weight'])\n",
    "g.es()['normalized_weight'] = [w/mw for w in g.es()['weight']]"
   ]
  },
  {
   "cell_type": "code",
   "execution_count": 1044,
   "metadata": {},
   "outputs": [],
   "source": [
    "## directed degree centrality\n",
    "def degree_centrality(g, weights=None):\n",
    "    n = g.vcount()\n",
    "    if g.is_directed():\n",
    "        dc = [sum(x)/(2*(n-1)) for x in zip(g.strength(mode='in',weights=weights),\\\n",
    "              g.strength(mode='out',weights=weights))]\n",
    "    else:\n",
    "        dc = [x/(n-1) for x in g.strength(weights=weights)]\n",
    "    return dc"
   ]
  },
  {
   "cell_type": "code",
   "execution_count": 1045,
   "metadata": {},
   "outputs": [
    {
     "data": {
      "text/html": [
       "<div>\n",
       "<style scoped>\n",
       "    .dataframe tbody tr th:only-of-type {\n",
       "        vertical-align: middle;\n",
       "    }\n",
       "\n",
       "    .dataframe tbody tr th {\n",
       "        vertical-align: top;\n",
       "    }\n",
       "\n",
       "    .dataframe thead th {\n",
       "        text-align: right;\n",
       "    }\n",
       "</style>\n",
       "<table border=\"1\" class=\"dataframe\">\n",
       "  <thead>\n",
       "    <tr style=\"text-align: right;\">\n",
       "      <th></th>\n",
       "      <th>airport</th>\n",
       "      <th>degree</th>\n",
       "      <th>pagerank</th>\n",
       "      <th>authority</th>\n",
       "      <th>hub</th>\n",
       "      <th>between</th>\n",
       "      <th>closeness</th>\n",
       "    </tr>\n",
       "  </thead>\n",
       "  <tbody>\n",
       "    <tr>\n",
       "      <th>461</th>\n",
       "      <td>EKX</td>\n",
       "      <td>7.520941e-10</td>\n",
       "      <td>0.000337</td>\n",
       "      <td>0.000000e+00</td>\n",
       "      <td>3.287565e-12</td>\n",
       "      <td>0.0</td>\n",
       "      <td>0.319031</td>\n",
       "    </tr>\n",
       "    <tr>\n",
       "      <th>460</th>\n",
       "      <td>AID</td>\n",
       "      <td>7.520941e-10</td>\n",
       "      <td>0.000337</td>\n",
       "      <td>3.968855e-08</td>\n",
       "      <td>0.000000e+00</td>\n",
       "      <td>0.0</td>\n",
       "      <td>0.356811</td>\n",
       "    </tr>\n",
       "    <tr>\n",
       "      <th>459</th>\n",
       "      <td>MOP</td>\n",
       "      <td>1.504188e-09</td>\n",
       "      <td>0.000337</td>\n",
       "      <td>1.403685e-09</td>\n",
       "      <td>0.000000e+00</td>\n",
       "      <td>0.0</td>\n",
       "      <td>0.322378</td>\n",
       "    </tr>\n",
       "    <tr>\n",
       "      <th>457</th>\n",
       "      <td>FDY</td>\n",
       "      <td>1.504188e-09</td>\n",
       "      <td>0.000337</td>\n",
       "      <td>4.505835e-08</td>\n",
       "      <td>0.000000e+00</td>\n",
       "      <td>0.0</td>\n",
       "      <td>0.362992</td>\n",
       "    </tr>\n",
       "    <tr>\n",
       "      <th>454</th>\n",
       "      <td>ADS</td>\n",
       "      <td>1.504188e-09</td>\n",
       "      <td>0.000337</td>\n",
       "      <td>0.000000e+00</td>\n",
       "      <td>4.875513e-09</td>\n",
       "      <td>0.0</td>\n",
       "      <td>0.316404</td>\n",
       "    </tr>\n",
       "  </tbody>\n",
       "</table>\n",
       "</div>"
      ],
      "text/plain": [
       "    airport        degree  pagerank     authority           hub  between  \\\n",
       "461     EKX  7.520941e-10  0.000337  0.000000e+00  3.287565e-12      0.0   \n",
       "460     AID  7.520941e-10  0.000337  3.968855e-08  0.000000e+00      0.0   \n",
       "459     MOP  1.504188e-09  0.000337  1.403685e-09  0.000000e+00      0.0   \n",
       "457     FDY  1.504188e-09  0.000337  4.505835e-08  0.000000e+00      0.0   \n",
       "454     ADS  1.504188e-09  0.000337  0.000000e+00  4.875513e-09      0.0   \n",
       "\n",
       "     closeness  \n",
       "461   0.319031  \n",
       "460   0.356811  \n",
       "459   0.322378  \n",
       "457   0.362992  \n",
       "454   0.316404  "
      ]
     },
     "execution_count": 1045,
     "metadata": {},
     "output_type": "execute_result"
    }
   ],
   "source": [
    "## compute several centrality measures\n",
    "C = pd.DataFrame({'airport':g.vs()['name'],\\\n",
    "                  'degree':degree_centrality(g,weights='normalized_weight'),\\\n",
    "                  'pagerank':g.pagerank(weights='weight'),'authority':g.authority_score(weights='weight'),\\\n",
    "                  'hub':g.hub_score(weights='weight'),'between':g.betweenness(),\\\n",
    "                  'closeness':g.closeness()})\n",
    "## normalize betweenness\n",
    "n = g.vcount()\n",
    "\n",
    "C['between'] = [2*x/((n-1)*(n-2)) for x in C['between']]\n",
    "## sort w.r.t. degree centrality\n",
    "Cs = C.sort_values(by=\"degree\")\n",
    "df = Cs.copy()\n",
    "df.head()"
   ]
  },
  {
   "cell_type": "markdown",
   "metadata": {},
   "source": [
    "#### Perform experiment of removing nodes to make the graph disconnected ."
   ]
  },
  {
   "cell_type": "markdown",
   "metadata": {},
   "source": [
    "#### Sorting nodes to disconnect the graph using degree as centreality measure"
   ]
  },
  {
   "cell_type": "code",
   "execution_count": 1046,
   "metadata": {},
   "outputs": [
    {
     "name": "stdout",
     "output_type": "stream",
     "text": [
      "Number of nodes removed with smallest degree centrality score is 179\n"
     ]
    }
   ],
   "source": [
    "ds1 = D.copy()\n",
    "df = df.sort_values(by='degree', ascending=True)\n",
    "g2 = ig.Graph.TupleList([tuple(x) for x in ds1.values], directed = True)\n",
    "g2.delete_vertices([460,461])\n",
    "for i, row in df.iterrows():\n",
    "    air = row['airport']\n",
    "    if g2.is_connected(mode='weak') == True:\n",
    "        g2.delete_vertices(air)\n",
    "print(\"Number of nodes removed with smallest degree centrality score is\", (462 - g2.vcount()))"
   ]
  },
  {
   "cell_type": "code",
   "execution_count": 1047,
   "metadata": {},
   "outputs": [
    {
     "name": "stdout",
     "output_type": "stream",
     "text": [
      "Number of nodes removed with largest degree centrality score is 2\n"
     ]
    }
   ],
   "source": [
    "ds1 = D.copy()\n",
    "df = df.sort_values(by='degree', ascending=False)\n",
    "g2 = ig.Graph.TupleList([tuple(x) for x in ds1.values], directed = True)\n",
    "g2.delete_vertices([460,461])\n",
    "for i, row in df.iterrows():\n",
    "    air = row['airport']\n",
    "    if g2.is_connected(mode='weak') == True:\n",
    "        g2.delete_vertices(air)\n",
    "print(\"Number of nodes removed with largest degree centrality score is\", (462 - g2.vcount()))"
   ]
  },
  {
   "cell_type": "markdown",
   "metadata": {},
   "source": [
    "#### Sorting nodes to disconnect the graph using pagerank as centreality measure"
   ]
  },
  {
   "cell_type": "code",
   "execution_count": 1048,
   "metadata": {},
   "outputs": [
    {
     "name": "stdout",
     "output_type": "stream",
     "text": [
      "Number of nodes removed with smallest pagerank centrality score is 36\n"
     ]
    }
   ],
   "source": [
    "ds1 = D.copy()\n",
    "df = df.sort_values(by='pagerank', ascending=True)\n",
    "g2 = ig.Graph.TupleList([tuple(x) for x in ds1.values], directed = True)\n",
    "g2.delete_vertices([460,461])\n",
    "for i, row in df.iterrows():\n",
    "    air = row['airport']\n",
    "    if g2.is_connected(mode='weak') == True:\n",
    "        g2.delete_vertices(air)\n",
    "print(\"Number of nodes removed with smallest pagerank centrality score is\", (462 - g2.vcount()))"
   ]
  },
  {
   "cell_type": "code",
   "execution_count": 1049,
   "metadata": {},
   "outputs": [
    {
     "name": "stdout",
     "output_type": "stream",
     "text": [
      "Number of nodes removed with largest pagerank centrality score is 2\n"
     ]
    }
   ],
   "source": [
    "ds1 = D.copy()\n",
    "df = df.sort_values(by='pagerank', ascending=False)\n",
    "g2 = ig.Graph.TupleList([tuple(x) for x in ds1.values], directed = True)\n",
    "g2.delete_vertices([460,461])\n",
    "for i, row in df.iterrows():\n",
    "    air = row['airport']\n",
    "    if g2.is_connected(mode='weak') == True:\n",
    "        g2.delete_vertices(air)\n",
    "print(\"Number of nodes removed with largest pagerank centrality score is\", (462 - g2.vcount()))"
   ]
  },
  {
   "cell_type": "markdown",
   "metadata": {},
   "source": [
    "#### Sorting nodes to disconnect the graph using authority as centreality measure"
   ]
  },
  {
   "cell_type": "code",
   "execution_count": 1050,
   "metadata": {},
   "outputs": [
    {
     "name": "stdout",
     "output_type": "stream",
     "text": [
      "Number of nodes removed with smallest authority centrality score is 2\n"
     ]
    }
   ],
   "source": [
    "ds1 = D.copy()\n",
    "df = df.sort_values(by='authority', ascending=True)\n",
    "g2 = ig.Graph.TupleList([tuple(x) for x in ds1.values], directed = True)\n",
    "g2.delete_vertices([460,461])\n",
    "for i, row in df.iterrows():\n",
    "    air = row['airport']\n",
    "    if g2.is_connected(mode='weak') == True:\n",
    "        g2.delete_vertices(air)\n",
    "print(\"Number of nodes removed with smallest authority centrality score is\", (462 - g2.vcount()))"
   ]
  },
  {
   "cell_type": "code",
   "execution_count": 1051,
   "metadata": {},
   "outputs": [
    {
     "name": "stdout",
     "output_type": "stream",
     "text": [
      "Number of nodes removed with largest authority centrality score is 2\n"
     ]
    }
   ],
   "source": [
    "ds1 = D.copy()\n",
    "df = df.sort_values(by='authority', ascending=False)\n",
    "g2 = ig.Graph.TupleList([tuple(x) for x in ds1.values], directed = True)\n",
    "g2.delete_vertices([460,461])\n",
    "for i, row in df.iterrows():\n",
    "    air = row['airport']\n",
    "    if g2.is_connected(mode='weak') == True:\n",
    "        g2.delete_vertices(air)\n",
    "print(\"Number of nodes removed with largest authority centrality score is\", (462 - g2.vcount()))"
   ]
  },
  {
   "cell_type": "markdown",
   "metadata": {},
   "source": [
    "#### Sorting nodes to disconnect the graph using hub as centreality measure"
   ]
  },
  {
   "cell_type": "code",
   "execution_count": 1052,
   "metadata": {},
   "outputs": [
    {
     "name": "stdout",
     "output_type": "stream",
     "text": [
      "Number of nodes removed with smallest hub centrality score is 462\n"
     ]
    }
   ],
   "source": [
    "ds1 = D.copy()\n",
    "df = df.sort_values(by='hub', ascending=True)\n",
    "g2 = ig.Graph.TupleList([tuple(x) for x in ds1.values], directed = True)\n",
    "g2.delete_vertices([460,461])\n",
    "for i, row in df.iterrows():\n",
    "    air = row['airport']\n",
    "    if g2.is_connected(mode='weak') == True:\n",
    "        g2.delete_vertices(air)\n",
    "print(\"Number of nodes removed with smallest hub centrality score is\", (462 - g2.vcount()))"
   ]
  },
  {
   "cell_type": "code",
   "execution_count": 1053,
   "metadata": {},
   "outputs": [
    {
     "name": "stdout",
     "output_type": "stream",
     "text": [
      "Number of nodes removed with largest hub centrality score is 2\n"
     ]
    }
   ],
   "source": [
    "ds1 = D.copy()\n",
    "df = df.sort_values(by='hub', ascending=False)\n",
    "g2 = ig.Graph.TupleList([tuple(x) for x in ds1.values], directed = True)\n",
    "g2.delete_vertices([460,461])\n",
    "for i, row in df.iterrows():\n",
    "    air = row['airport']\n",
    "    if g2.is_connected(mode='weak') == True:\n",
    "        g2.delete_vertices(air)\n",
    "print(\"Number of nodes removed with largest hub centrality score is\", (462 - g2.vcount()))"
   ]
  },
  {
   "cell_type": "markdown",
   "metadata": {},
   "source": [
    "#### Sorting nodes to disconnect the graph using betweenness as centreality measure"
   ]
  },
  {
   "cell_type": "code",
   "execution_count": 1054,
   "metadata": {},
   "outputs": [
    {
     "name": "stdout",
     "output_type": "stream",
     "text": [
      "Number of nodes removed with smallest between centrality score is 462\n"
     ]
    }
   ],
   "source": [
    "ds1 = D.copy()\n",
    "df = df.sort_values(by='between', ascending=True)\n",
    "g2 = ig.Graph.TupleList([tuple(x) for x in ds1.values], directed = True)\n",
    "g2.delete_vertices([460,461])\n",
    "for i, row in df.iterrows():\n",
    "    air = row['airport']\n",
    "    if g2.is_connected(mode='weak') == True:\n",
    "        g2.delete_vertices(air)\n",
    "print(\"Number of nodes removed with smallest between centrality score is\", (462 - g2.vcount()))"
   ]
  },
  {
   "cell_type": "code",
   "execution_count": 1055,
   "metadata": {},
   "outputs": [
    {
     "name": "stdout",
     "output_type": "stream",
     "text": [
      "Number of nodes removed with largest between centrality score is 4\n"
     ]
    }
   ],
   "source": [
    "ds1 = D.copy()\n",
    "df = df.sort_values(by='between', ascending=False)\n",
    "g2 = ig.Graph.TupleList([tuple(x) for x in ds1.values], directed = True)\n",
    "g2.delete_vertices([460,461])\n",
    "for i, row in df.iterrows():\n",
    "    air = row['airport']\n",
    "    if g2.is_connected(mode='weak') == True:\n",
    "        g2.delete_vertices(air)\n",
    "print(\"Number of nodes removed with largest between centrality score is\", (462 - g2.vcount()))"
   ]
  },
  {
   "cell_type": "markdown",
   "metadata": {},
   "source": [
    "#### Sorting nodes to disconnect the graph using closeness as centreality measure"
   ]
  },
  {
   "cell_type": "code",
   "execution_count": 1056,
   "metadata": {},
   "outputs": [
    {
     "name": "stdout",
     "output_type": "stream",
     "text": [
      "Number of nodes removed with smallest closeness centrality score is 462\n"
     ]
    }
   ],
   "source": [
    "ds1 = D.copy()\n",
    "df = df.sort_values(by='closeness', ascending=True)\n",
    "g2 = ig.Graph.TupleList([tuple(x) for x in ds1.values], directed = True)\n",
    "g2.delete_vertices([460,461])\n",
    "for i, row in df.iterrows():\n",
    "    air = row['airport']\n",
    "    if g2.is_connected(mode='weak') == True:\n",
    "        g2.delete_vertices(air)\n",
    "print(\"Number of nodes removed with smallest closeness centrality score is\", (462 - g2.vcount()))"
   ]
  },
  {
   "cell_type": "code",
   "execution_count": 1057,
   "metadata": {},
   "outputs": [
    {
     "name": "stdout",
     "output_type": "stream",
     "text": [
      "Number of nodes removed with largest closeness centrality score is 1\n"
     ]
    }
   ],
   "source": [
    "ds1 = D.copy()\n",
    "df = df.sort_values(by='closeness', ascending=False)\n",
    "g2 = ig.Graph.TupleList([tuple(x) for x in ds1.values], directed = True)\n",
    "g2.delete_vertices([460,461])\n",
    "for i, row in df.iterrows():\n",
    "    air = row['airport']\n",
    "    if g2.is_connected(mode='weak') == True:\n",
    "        g2.delete_vertices(air)\n",
    "print(\"Number of nodes removed with largest closeness centrality score is\", (462 - g2.vcount()))"
   ]
  },
  {
   "cell_type": "markdown",
   "metadata": {},
   "source": [
    "### Question 4\n",
    "(P) Generate binomial random graphs G(n; p) with n 2 f{1;250; 2;500; 5;000; 10;000; 20;000}g and the expected degree pn from the set f{1; 2; 4; 8; 16}g. For each centrality measure (degree, pagerank, authority, hub, between, closeness) estimate the time required to compute it. What can you say about the scalability of the algorithms under the implementation you have used? Try to estimate the complexity of such algorithms."
   ]
  },
  {
   "cell_type": "code",
   "execution_count": 1058,
   "metadata": {},
   "outputs": [],
   "source": [
    "## directed degree centrality\n",
    "def degree_centrality(G, weights=None):\n",
    "    n = g.vcount()\n",
    "    if g.is_directed():\n",
    "        dc = [sum(x)/(2*(n-1)) for x in zip(G.strength(mode='in',weights=weights),\\\n",
    "              G.strength(mode='out',weights=weights))]\n",
    "    else:\n",
    "        dc = [x/(n-1) for x in G.strength(weights=weights)]\n",
    "    return dc"
   ]
  },
  {
   "cell_type": "code",
   "execution_count": 1059,
   "metadata": {},
   "outputs": [
    {
     "name": "stdout",
     "output_type": "stream",
     "text": [
      "degree computation time 0.0007338523864746094\n",
      "pagerank computation time 0.004827022552490234\n",
      "authority_score computation time 0.0060882568359375\n",
      "hub_score computation time 0.005476951599121094\n",
      "betweenness computation time 0.2435009479522705\n",
      "closeness computation time 0.10491704940795898\n"
     ]
    }
   ],
   "source": [
    "import time\n",
    "n = 1250\n",
    "D = [1,2,4,8,16]\n",
    "for d in D:\n",
    "    g = ig.Graph.Degree_Sequence([d for i in range(n)], method = \"simple\")\n",
    "current_time = time.time()\n",
    "f = degree_centrality(g, weights=None)\n",
    "print (\"degree computation time\",     time.time()-current_time)\n",
    "current_time = time.time()\n",
    "e=g.pagerank()\n",
    "print (\"pagerank computation time\",     time.time()-current_time)\n",
    "current_time = time.time()\n",
    "d=g.authority_score()\n",
    "print (\"authority_score computation time\",     time.time()-current_time)\n",
    "current_time = time.time()\n",
    "c=g.hub_score()\n",
    "print (\"hub_score computation time\", time.time()-current_time)\n",
    "current_time = time.time()\n",
    "b=g.betweenness()\n",
    "print (\"betweenness computation time\", time.time()-current_time)\n",
    "current_time = time.time()\n",
    "a=g.closeness()\n",
    "print (\"closeness computation time\", time.time()-current_time)"
   ]
  },
  {
   "cell_type": "code",
   "execution_count": 1060,
   "metadata": {},
   "outputs": [
    {
     "name": "stdout",
     "output_type": "stream",
     "text": [
      "degree computation time 0.0005178451538085938\n",
      "pagerank computation time 0.009791851043701172\n",
      "authority_score computation time 0.009800910949707031\n",
      "hub_score computation time 0.008991241455078125\n",
      "betweenness computation time 1.10080885887146\n",
      "closeness computation time 0.5190050601959229\n"
     ]
    }
   ],
   "source": [
    "import time\n",
    "n = 2500\n",
    "D = [1,2,4,8,16]\n",
    "for d in D:\n",
    "    g = ig.Graph.Degree_Sequence([d for i in range(n)], method = \"simple\")\n",
    "current_time = time.time()\n",
    "f = degree_centrality(g, weights=None)\n",
    "print (\"degree computation time\",     time.time()-current_time)\n",
    "current_time = time.time()\n",
    "e=g.pagerank()\n",
    "print (\"pagerank computation time\",     time.time()-current_time)\n",
    "current_time = time.time()\n",
    "d=g.authority_score()\n",
    "print (\"authority_score computation time\",     time.time()-current_time)\n",
    "current_time = time.time()\n",
    "c=g.hub_score()\n",
    "print (\"hub_score computation time\", time.time()-current_time)\n",
    "current_time = time.time()\n",
    "b=g.betweenness()\n",
    "print (\"betweenness computation time\", time.time()-current_time)\n",
    "current_time = time.time()\n",
    "a=g.closeness()\n",
    "print (\"closeness computation time\", time.time()-current_time)"
   ]
  },
  {
   "cell_type": "code",
   "execution_count": 1061,
   "metadata": {},
   "outputs": [
    {
     "name": "stdout",
     "output_type": "stream",
     "text": [
      "degree computation time 0.0015859603881835938\n",
      "pagerank computation time 0.024655818939208984\n",
      "authority_score computation time 0.059187889099121094\n",
      "hub_score computation time 0.022439956665039062\n",
      "betweenness computation time 4.260309934616089\n",
      "closeness computation time 1.9499738216400146\n"
     ]
    }
   ],
   "source": [
    "import time\n",
    "n = 5000\n",
    "D = [1,2,4,8,16]\n",
    "for d in D:\n",
    "    g = ig.Graph.Degree_Sequence([d for i in range(n)], method = \"simple\")\n",
    "    \n",
    "current_time = time.time()\n",
    "f = degree_centrality(g, weights=None)\n",
    "print (\"degree computation time\",     time.time()-current_time)\n",
    "current_time = time.time()\n",
    "e=g.pagerank()\n",
    "print (\"pagerank computation time\",     time.time()-current_time)\n",
    "current_time = time.time()\n",
    "d=g.authority_score()\n",
    "print (\"authority_score computation time\",     time.time()-current_time)\n",
    "current_time = time.time()\n",
    "c=g.hub_score()\n",
    "print (\"hub_score computation time\", time.time()-current_time)\n",
    "current_time = time.time()\n",
    "b=g.betweenness()\n",
    "print (\"betweenness computation time\", time.time()-current_time)\n",
    "current_time = time.time()\n",
    "a=g.closeness()\n",
    "print (\"closeness computation time\", time.time()-current_time)"
   ]
  },
  {
   "cell_type": "code",
   "execution_count": 1062,
   "metadata": {},
   "outputs": [
    {
     "name": "stdout",
     "output_type": "stream",
     "text": [
      "degree computation time 0.001961946487426758\n",
      "pagerank computation time 0.036187171936035156\n",
      "authority_score computation time 0.036724090576171875\n",
      "hub_score computation time 0.03206300735473633\n",
      "betweenness computation time 20.59398078918457\n",
      "closeness computation time 13.30803394317627\n"
     ]
    }
   ],
   "source": [
    "import time\n",
    "n = 10000\n",
    "D = [1,2,4,8,16]\n",
    "for d in D:\n",
    "    g = ig.Graph.Degree_Sequence([d for i in range(n)], method = \"simple\")\n",
    "current_time = time.time()\n",
    "f = degree_centrality(g, weights=None)\n",
    "print (\"degree computation time\",     time.time()-current_time)\n",
    "current_time = time.time()\n",
    "e=g.pagerank()\n",
    "print (\"pagerank computation time\",     time.time()-current_time)\n",
    "current_time = time.time()\n",
    "d=g.authority_score()\n",
    "print (\"authority_score computation time\",     time.time()-current_time)\n",
    "current_time = time.time()\n",
    "c=g.hub_score()\n",
    "print (\"hub_score computation time\", time.time()-current_time)\n",
    "current_time = time.time()\n",
    "b=g.betweenness()\n",
    "print (\"betweenness computation time\", time.time()-current_time)\n",
    "current_time = time.time()\n",
    "a=g.closeness()\n",
    "print (\"closeness computation time\", time.time()-current_time)\n"
   ]
  },
  {
   "cell_type": "code",
   "execution_count": 1063,
   "metadata": {},
   "outputs": [
    {
     "name": "stdout",
     "output_type": "stream",
     "text": [
      "degree computation time 0.0030977725982666016\n",
      "pagerank computation time 0.06956100463867188\n",
      "authority_score computation time 0.10280203819274902\n",
      "hub_score computation time 0.21473217010498047\n",
      "betweenness computation time 192.25944805145264\n",
      "closeness computation time 55.454102993011475\n"
     ]
    }
   ],
   "source": [
    "import time\n",
    "n = 20000\n",
    "D = [1,2,4,8,16]\n",
    "for d in D:\n",
    "    g = ig.Graph.Degree_Sequence([d for i in range(n)], method = \"simple\")\n",
    "current_time = time.time()\n",
    "f = degree_centrality(g, weights=None)\n",
    "print (\"degree computation time\",     time.time()-current_time)\n",
    "current_time = time.time()\n",
    "e=g.pagerank()\n",
    "print (\"pagerank computation time\",     time.time()-current_time)\n",
    "current_time = time.time()\n",
    "d=g.authority_score()\n",
    "print (\"authority_score computation time\",     time.time()-current_time)\n",
    "current_time = time.time()\n",
    "c=g.hub_score()\n",
    "print (\"hub_score computation time\", time.time()-current_time)\n",
    "current_time = time.time()\n",
    "b=g.betweenness()\n",
    "print (\"betweenness computation time\", time.time()-current_time)\n",
    "current_time = time.time()\n",
    "a=g.closeness()\n",
    "print (\"closeness computation time\", time.time()-current_time)"
   ]
  },
  {
   "cell_type": "markdown",
   "metadata": {},
   "source": [
    "#### The time complexity for degree centrality measure can be estimated as O(V) \n",
    "#### The time complexity for pagerank centrality measure can be estimated as O(k*V)\n",
    "#### The time complexity for authority centrality measure can be estimated as O(V)\n",
    "#### The time complexity for hub centrality measure can be estimated as O(V)\n",
    "#### The time complexity for betweenness centrality measure can be estimated as O(V*E)\n",
    "#### The time complexity for closeness centrality measure can be estimated as O(V/E)"
   ]
  },
  {
   "cell_type": "code",
   "execution_count": null,
   "metadata": {},
   "outputs": [],
   "source": []
  }
 ],
 "metadata": {
  "kernelspec": {
   "display_name": "Python 3",
   "language": "python",
   "name": "python3"
  },
  "language_info": {
   "codemirror_mode": {
    "name": "ipython",
    "version": 3
   },
   "file_extension": ".py",
   "mimetype": "text/x-python",
   "name": "python",
   "nbconvert_exporter": "python",
   "pygments_lexer": "ipython3",
   "version": "3.7.3"
  }
 },
 "nbformat": 4,
 "nbformat_minor": 2
}
